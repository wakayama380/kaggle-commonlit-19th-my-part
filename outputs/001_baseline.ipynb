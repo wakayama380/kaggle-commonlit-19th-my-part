{
 "cells": [
  {
   "cell_type": "code",
   "execution_count": 1,
   "metadata": {
    "id": "hA0k5sqjAB1q"
   },
   "outputs": [],
   "source": [
    "EXP_ID = \"001\""
   ]
  },
  {
   "cell_type": "code",
   "execution_count": 2,
   "metadata": {
    "colab": {
     "base_uri": "https://localhost:8080/"
    },
    "id": "0pNDM9ozrGgA",
    "outputId": "96e3f3c9-ff58-47a8-8725-1088862192f7"
   },
   "outputs": [
    {
     "name": "stdout",
     "output_type": "stream",
     "text": [
      "Tue Aug  8 15:31:51 2023       \n",
      "+-----------------------------------------------------------------------------+\n",
      "| NVIDIA-SMI 525.85.12    Driver Version: 525.85.12    CUDA Version: 12.0     |\n",
      "|-------------------------------+----------------------+----------------------+\n",
      "| GPU  Name        Persistence-M| Bus-Id        Disp.A | Volatile Uncorr. ECC |\n",
      "| Fan  Temp  Perf  Pwr:Usage/Cap|         Memory-Usage | GPU-Util  Compute M. |\n",
      "|                               |                      |               MIG M. |\n",
      "|===============================+======================+======================|\n",
      "|   0  NVIDIA RTX A6000    On   | 00000000:05:00.0 Off |                  Off |\n",
      "| 30%   53C    P0    50W / 300W |     17MiB / 49140MiB |     70%      Default |\n",
      "|                               |                      |                  N/A |\n",
      "+-------------------------------+----------------------+----------------------+\n",
      "                                                                               \n",
      "+-----------------------------------------------------------------------------+\n",
      "| Processes:                                                                  |\n",
      "|  GPU   GI   CI        PID   Type   Process name                  GPU Memory |\n",
      "|        ID   ID                                                   Usage      |\n",
      "|=============================================================================|\n",
      "+-----------------------------------------------------------------------------+\n"
     ]
    }
   ],
   "source": [
    "!nvidia-smi"
   ]
  },
  {
   "cell_type": "code",
   "execution_count": 3,
   "metadata": {
    "colab": {
     "base_uri": "https://localhost:8080/"
    },
    "id": "Ks4yLEkEAIvE",
    "outputId": "28847652-fc3b-4e05-d911-c4dfca3827d2"
   },
   "outputs": [],
   "source": [
    "from pathlib import Path\n",
    "\n",
    "EXP_DIR = Path(f\"../data/exp{EXP_ID}\")\n",
    "EXP_DIR.mkdir(exist_ok=True, parents=True)"
   ]
  },
  {
   "cell_type": "code",
   "execution_count": 4,
   "metadata": {
    "_cell_guid": "b1076dfc-b9ad-4769-8c92-a6c4dae69d19",
    "_uuid": "8f2839f25d086af736a60e9eeb907d3b93b6e0e5",
    "id": "atdUvDLq_y8b"
   },
   "outputs": [],
   "source": [
    "import os\n",
    "import re\n",
    "import time\n",
    "import random\n",
    "from pathlib import Path\n",
    "from pprint import pprint\n",
    "from collections import Counter, defaultdict\n",
    "\n",
    "import pandas as pd\n",
    "import numpy as np\n",
    "import matplotlib.pyplot as plt\n",
    "from tqdm.auto import tqdm\n",
    "\n",
    "from sklearn.model_selection import StratifiedKFold\n",
    "from sklearn.metrics import mean_squared_error\n",
    "\n",
    "import torch\n",
    "from torch import nn\n",
    "from torch.cuda import amp\n",
    "from torch.optim.lr_scheduler import (\n",
    "    CosineAnnealingWarmRestarts,\n",
    "    CosineAnnealingLR,\n",
    "    ReduceLROnPlateau,\n",
    "    ExponentialLR\n",
    ")\n",
    "from torch.utils.data.dataset import Dataset\n",
    "from torch.utils.data.dataloader import DataLoader\n",
    "\n",
    "import transformers\n",
    "\n",
    "pd.set_option(\"display.max_columns\", 100)\n",
    "pd.set_option(\"display.max_rows\", 100)"
   ]
  },
  {
   "cell_type": "code",
   "execution_count": 5,
   "metadata": {
    "id": "ta5X_dGsax6k"
   },
   "outputs": [],
   "source": [
    "class CFG:\n",
    "    seed = 2022\n",
    "\n",
    "    n_folds = 4\n",
    "\n",
    "    model_name = \"roberta-base\"\n",
    "\n",
    "    input_dir = \"../input/\"\n",
    "\n",
    "    num_workers = 4\n",
    "    batch_size = 32\n",
    "    n_epoch = 5\n",
    "    lr = 5e-6\n",
    "    verbose = True\n",
    "    verbose_step = 1\n",
    "\n",
    "    max_length = 512\n",
    "\n",
    "    SchedulerClass = CosineAnnealingLR\n",
    "    scheduler_params = dict(\n",
    "        T_max=n_epoch,\n",
    "        eta_min=1e-7\n",
    "    )\n",
    "    num_warmup_steps_rate = 0.1\n",
    "    # warmup_epoch = 3\n",
    "    #SchedulerClass = ExponentialLR\n",
    "    #scheduler_params = dict(\n",
    "    #    gamma=0.95\n",
    "    #)\n",
    "\n",
    "    n_cv_fold = 4\n",
    "    use_fp16 = False\n",
    "\n",
    "    fold_map = {\n",
    "        \"814d6b\": 0,\n",
    "        \"ebad26\": 1,\n",
    "        \"3b9047\": 2,\n",
    "        \"39c16e\": 3,\n",
    "    }"
   ]
  },
  {
   "cell_type": "code",
   "execution_count": 6,
   "metadata": {
    "id": "xfZbZHAc_y8h"
   },
   "outputs": [],
   "source": [
    "def set_seed(seed):\n",
    "    torch.manual_seed(seed)\n",
    "    torch.backends.cudnn.deterministic = True\n",
    "    torch.backends.cudnn.benchmark = False\n",
    "    torch.cuda.manual_seed(seed)\n",
    "    np.random.seed(seed)\n",
    "    random.seed(seed)\n",
    "    os.environ[\"PYTHONHASHSEED\"] = str(seed)"
   ]
  },
  {
   "cell_type": "code",
   "execution_count": 7,
   "metadata": {
    "id": "qrhFoEx6bKWd"
   },
   "outputs": [],
   "source": [
    "def read_data(csv_path: [Path, str], reset = False, *args, **kwargs) -> pd.DataFrame:\n",
    "    pkl_path = csv_path.parent / (csv_path.stem + \".pkl\")\n",
    "    if pkl_path.exists() and not reset:\n",
    "        print(\"read from pickle\")\n",
    "        df = pd.read_pickle(pkl_path)\n",
    "    else:\n",
    "        print(\"read from csv\")\n",
    "        df = pd.read_csv(csv_path, *args, **kwargs)\n",
    "        df.to_pickle(pkl_path)\n",
    "    return df"
   ]
  },
  {
   "cell_type": "code",
   "execution_count": 8,
   "metadata": {
    "id": "3xkRWMEVbNlW"
   },
   "outputs": [
    {
     "name": "stdout",
     "output_type": "stream",
     "text": [
      "read from pickle\n",
      "read from pickle\n",
      "read from pickle\n",
      "read from pickle\n"
     ]
    }
   ],
   "source": [
    "input_dir = Path(CFG.input_dir)\n",
    "p_train_df = read_data(input_dir / \"prompts_train.csv\")\n",
    "p_test_df = read_data(input_dir / \"prompts_test.csv\")\n",
    "train_df = read_data(input_dir / \"summaries_train.csv\")\n",
    "test_df = read_data(input_dir / \"summaries_test.csv\")"
   ]
  },
  {
   "cell_type": "code",
   "execution_count": 9,
   "metadata": {
    "id": "4OF7JmGPbcHY"
   },
   "outputs": [],
   "source": [
    "train_df[\"fold\"] = train_df[\"prompt_id\"].map(CFG.fold_map)\n",
    "train_df[\"fold\"] = train_df[\"fold\"].astype(np.int8)"
   ]
  },
  {
   "cell_type": "code",
   "execution_count": 10,
   "metadata": {},
   "outputs": [
    {
     "data": {
      "text/html": [
       "<div>\n",
       "<style scoped>\n",
       "    .dataframe tbody tr th:only-of-type {\n",
       "        vertical-align: middle;\n",
       "    }\n",
       "\n",
       "    .dataframe tbody tr th {\n",
       "        vertical-align: top;\n",
       "    }\n",
       "\n",
       "    .dataframe thead th {\n",
       "        text-align: right;\n",
       "    }\n",
       "</style>\n",
       "<table border=\"1\" class=\"dataframe\">\n",
       "  <thead>\n",
       "    <tr style=\"text-align: right;\">\n",
       "      <th></th>\n",
       "      <th>student_id</th>\n",
       "      <th>prompt_id</th>\n",
       "      <th>text</th>\n",
       "      <th>content</th>\n",
       "      <th>wording</th>\n",
       "      <th>fold</th>\n",
       "    </tr>\n",
       "  </thead>\n",
       "  <tbody>\n",
       "    <tr>\n",
       "      <th>0</th>\n",
       "      <td>000e8c3c7ddb</td>\n",
       "      <td>814d6b</td>\n",
       "      <td>The third wave was an experimentto see how peo...</td>\n",
       "      <td>0.205683</td>\n",
       "      <td>0.380538</td>\n",
       "      <td>0</td>\n",
       "    </tr>\n",
       "    <tr>\n",
       "      <th>1</th>\n",
       "      <td>0020ae56ffbf</td>\n",
       "      <td>ebad26</td>\n",
       "      <td>They would rub it up with soda to make the sme...</td>\n",
       "      <td>-0.548304</td>\n",
       "      <td>0.506755</td>\n",
       "      <td>1</td>\n",
       "    </tr>\n",
       "  </tbody>\n",
       "</table>\n",
       "</div>"
      ],
      "text/plain": [
       "     student_id prompt_id                                               text  \\\n",
       "0  000e8c3c7ddb    814d6b  The third wave was an experimentto see how peo...   \n",
       "1  0020ae56ffbf    ebad26  They would rub it up with soda to make the sme...   \n",
       "\n",
       "    content   wording  fold  \n",
       "0  0.205683  0.380538     0  \n",
       "1 -0.548304  0.506755     1  "
      ]
     },
     "execution_count": 10,
     "metadata": {},
     "output_type": "execute_result"
    }
   ],
   "source": [
    "train_df.head(2)"
   ]
  },
  {
   "cell_type": "code",
   "execution_count": 11,
   "metadata": {},
   "outputs": [
    {
     "data": {
      "text/html": [
       "<div>\n",
       "<style scoped>\n",
       "    .dataframe tbody tr th:only-of-type {\n",
       "        vertical-align: middle;\n",
       "    }\n",
       "\n",
       "    .dataframe tbody tr th {\n",
       "        vertical-align: top;\n",
       "    }\n",
       "\n",
       "    .dataframe thead th {\n",
       "        text-align: right;\n",
       "    }\n",
       "</style>\n",
       "<table border=\"1\" class=\"dataframe\">\n",
       "  <thead>\n",
       "    <tr style=\"text-align: right;\">\n",
       "      <th></th>\n",
       "      <th>prompt_id</th>\n",
       "      <th>prompt_question</th>\n",
       "      <th>prompt_title</th>\n",
       "      <th>prompt_text</th>\n",
       "    </tr>\n",
       "  </thead>\n",
       "  <tbody>\n",
       "    <tr>\n",
       "      <th>0</th>\n",
       "      <td>39c16e</td>\n",
       "      <td>Summarize at least 3 elements of an ideal trag...</td>\n",
       "      <td>On Tragedy</td>\n",
       "      <td>Chapter 13 \\r\\nAs the sequel to what has alrea...</td>\n",
       "    </tr>\n",
       "    <tr>\n",
       "      <th>1</th>\n",
       "      <td>3b9047</td>\n",
       "      <td>In complete sentences, summarize the structure...</td>\n",
       "      <td>Egyptian Social Structure</td>\n",
       "      <td>Egyptian society was structured like a pyramid...</td>\n",
       "    </tr>\n",
       "  </tbody>\n",
       "</table>\n",
       "</div>"
      ],
      "text/plain": [
       "  prompt_id                                    prompt_question  \\\n",
       "0    39c16e  Summarize at least 3 elements of an ideal trag...   \n",
       "1    3b9047  In complete sentences, summarize the structure...   \n",
       "\n",
       "                prompt_title  \\\n",
       "0                 On Tragedy   \n",
       "1  Egyptian Social Structure   \n",
       "\n",
       "                                         prompt_text  \n",
       "0  Chapter 13 \\r\\nAs the sequel to what has alrea...  \n",
       "1  Egyptian society was structured like a pyramid...  "
      ]
     },
     "execution_count": 11,
     "metadata": {},
     "output_type": "execute_result"
    }
   ],
   "source": [
    "p_train_df.head(2)"
   ]
  },
  {
   "cell_type": "code",
   "execution_count": 12,
   "metadata": {
    "id": "skv0W4HO_y8h"
   },
   "outputs": [],
   "source": [
    "class NLPDataset(Dataset):\n",
    "    def __init__(self, df, prompt_df, tokenizer, is_train=True, max_len=128):\n",
    "        self.student_ids = df[\"student_id\"].tolist()\n",
    "        self.text = df[\"text\"].tolist()\n",
    "        self.content = df[\"content\"].tolist()\n",
    "        self.wording = df[\"wording\"].tolist()\n",
    "        self.prompt_question = prompt_df.set_index(\"prompt_id\")[\"prompt_question\"].reindex(df[\"prompt_id\"]).tolist()\n",
    "        self.prompt_title  = prompt_df.set_index(\"prompt_id\")[\"prompt_title\"].reindex(df[\"prompt_id\"]).tolist()\n",
    "        self.prompt_text = prompt_df.set_index(\"prompt_id\")[\"prompt_text\"].reindex(df[\"prompt_id\"]).tolist()\n",
    "        \n",
    "        self.tokenizer = tokenizer\n",
    "        \n",
    "        self.is_train = is_train\n",
    "        self.max_len = max_len\n",
    "\n",
    "    def __len__(self):\n",
    "        return len(self.student_ids)\n",
    "    \n",
    "    def __getitem__(self, ix):\n",
    "        prompt_question = str(self.prompt_question[ix])\n",
    "        prompt_text = str(self.prompt_text[ix])\n",
    "        text = str(self.text[ix])\n",
    "\n",
    "        sentence = prompt_question + \" [SEP] \" + text  # + \" [SEP] \" + prompt_text\n",
    "        target1 = self.content[ix]\n",
    "        target2 = self.wording[ix]\n",
    "        \n",
    "        text_inputs = self.tokenizer(\n",
    "            sentence, \n",
    "            max_length=self.max_len, \n",
    "            padding=\"max_length\", \n",
    "            truncation=True,\n",
    "            return_token_type_ids=True\n",
    "        )\n",
    "\n",
    "        data = {\n",
    "            \"input_ids\": torch.tensor(text_inputs[\"input_ids\"], dtype=torch.long),\n",
    "            \"attention_mask\": torch.tensor(text_inputs[\"attention_mask\"], dtype=torch.long),\n",
    "            \"token_type_ids\": torch.tensor(text_inputs[\"token_type_ids\"], dtype=torch.long),\n",
    "            \"targets\": torch.tensor([target1, target2], dtype=torch.float),\n",
    "        }\n",
    "\n",
    "        return data"
   ]
  },
  {
   "cell_type": "code",
   "execution_count": 13,
   "metadata": {
    "id": "hEiSXMWn_y8i"
   },
   "outputs": [],
   "source": [
    "class NLPModel(nn.Module):\n",
    "    def __init__(self, mlm_model_path=None):\n",
    "        super(NLPModel, self).__init__()\n",
    "        if mlm_model_path is None:\n",
    "            self.encoder = transformers.RobertaModel.from_pretrained(\n",
    "                CFG.model_name,\n",
    "                attention_probs_dropout_prob=0.0, hidden_dropout_prob=0.0,\n",
    "                output_hidden_states=True\n",
    "            )\n",
    "        else:\n",
    "            mlm_model = transformers.RobertaForMaskedLM.from_pretrained(\n",
    "                CFG.model_name, output_hidden_states=True,\n",
    "                attention_probs_dropout_prob=0.0, hidden_dropout_prob=0.0,\n",
    "            )\n",
    "            mlm_model.load_state_dict(\n",
    "                torch.load(mlm_model_path, map_location=lambda storage,loc: storage)[\"model_state_dict\"]\n",
    "            )\n",
    "            self.encoder = mlm_model.roberta\n",
    "\n",
    "        self.fc = nn.Linear(768, 2)\n",
    "        # torch.nn.init.normal_(self.fc.weight, std=0.02)\n",
    "    \n",
    "    def forward(self, input_ids, attention_mask, token_type_ids):\n",
    "        last_hidden_state, pooler_output, hidden_state = self.encoder(input_ids=input_ids,\n",
    "                                 attention_mask=attention_mask, \n",
    "                                 token_type_ids = token_type_ids, \n",
    "                                 return_dict=False)\n",
    "        cls_token = last_hidden_state[:, 0, :]\n",
    "        # cls_token = torch.cat([\n",
    "        #            hidden_state[-1].mean(dim=1),\n",
    "        #            hidden_state[-1][:, 0, :],\n",
    "        #            hidden_state[-2][:, 0, :],\n",
    "        #            hidden_state[-3][:, 0, :],\n",
    "        #            hidden_state[-4][:, 0, :]\n",
    "        # ], dim=1)\n",
    "        output = self.fc(cls_token)\n",
    "        return output"
   ]
  },
  {
   "cell_type": "code",
   "execution_count": 14,
   "metadata": {},
   "outputs": [],
   "source": [
    "class AWP:\n",
    "    def __init__(\n",
    "        self,\n",
    "        model,\n",
    "        optimizer,\n",
    "        adv_param=\"weight\",\n",
    "        adv_lr=1,\n",
    "        adv_eps=0.2,\n",
    "        start_epoch=0,\n",
    "        adv_step=1,\n",
    "        scaler=None\n",
    "    ):\n",
    "        self.model = model\n",
    "        self.optimizer = optimizer\n",
    "        self.adv_param = adv_param\n",
    "        self.adv_lr = adv_lr\n",
    "        self.adv_eps = adv_eps\n",
    "        self.start_epoch = start_epoch\n",
    "        self.adv_step = adv_step\n",
    "        self.backup = {}\n",
    "        self.backup_eps = {}\n",
    "        self.scaler = scaler\n",
    "\n",
    "    def attack_backward(self, ids, mask, token_type_ids, labels, criterion, epoch):\n",
    "        if (self.adv_lr == 0) or (epoch < self.start_epoch):\n",
    "            return None\n",
    "\n",
    "        self._save() \n",
    "        for i in range(self.adv_step):\n",
    "            self._attack_step() \n",
    "            with torch.cuda.amp.autocast(enabled=CFG.use_fp16):\n",
    "                y_preds = self.model(ids, mask, token_type_ids)\n",
    "            y_preds = y_preds.reshape(-1)\n",
    "            adv_loss = criterion(y_preds, labels)\n",
    "            self.optimizer.zero_grad()\n",
    "            #adv_loss.backward()\n",
    "            self.scaler.scale(adv_loss).backward()\n",
    "        self._restore()\n",
    "\n",
    "    def _attack_step(self):\n",
    "        e = 1e-6\n",
    "        for name, param in self.model.named_parameters():\n",
    "            if param.requires_grad and param.grad is not None and self.adv_param in name:\n",
    "                norm1 = torch.norm(param.grad)\n",
    "                norm2 = torch.norm(param.data.detach())\n",
    "                if norm1 != 0 and not torch.isnan(norm1):\n",
    "                    r_at = self.adv_lr * param.grad / (norm1 + e) * (norm2 + e)\n",
    "                    param.data.add_(r_at)\n",
    "                    param.data = torch.min(\n",
    "                        torch.max(param.data, self.backup_eps[name][0]), self.backup_eps[name][1]\n",
    "                    )\n",
    "\n",
    "    def _save(self):\n",
    "        for name, param in self.model.named_parameters():\n",
    "            if param.requires_grad and param.grad is not None and self.adv_param in name:\n",
    "                if name not in self.backup:\n",
    "                    self.backup[name] = param.data.clone()\n",
    "                    grad_eps = self.adv_eps * param.abs().detach()\n",
    "                    self.backup_eps[name] = (\n",
    "                        self.backup[name] - grad_eps,\n",
    "                        self.backup[name] + grad_eps,\n",
    "                    )\n",
    "\n",
    "    def _restore(self,):\n",
    "        for name, param in self.model.named_parameters():\n",
    "            if name in self.backup:\n",
    "                param.data = self.backup[name]\n",
    "        self.backup = {}\n",
    "        self.backup_eps = {}"
   ]
  },
  {
   "cell_type": "code",
   "execution_count": 15,
   "metadata": {
    "id": "jnSl5cRD_y8i"
   },
   "outputs": [],
   "source": [
    "def train_one_epoch(model, loss_fn, data_loader, optimizer,\n",
    "                    device, scheduler, epoch, scaler=None, awp=None):\n",
    "    # get batch data loop\n",
    "    epoch_loss = 0\n",
    "    epoch_data_num = len(data_loader.dataset)\n",
    "\n",
    "    model.train()\n",
    "\n",
    "    bar = tqdm(enumerate(data_loader), total=len(data_loader))\n",
    "\n",
    "    for iter_i, batch in bar:\n",
    "        # input\n",
    "        batch = {k : v.to(device) for k, v in batch.items()}\n",
    "        text_inputs = {\n",
    "            \"input_ids\": batch[\"input_ids\"],\n",
    "            \"attention_mask\": batch[\"attention_mask\"],\n",
    "            \"token_type_ids\": batch[\"token_type_ids\"]\n",
    "        }\n",
    "        targets = batch[\"targets\"]\n",
    "        batch_size = len(targets)\n",
    "\n",
    "        # zero grad\n",
    "        optimizer.zero_grad()\n",
    "\n",
    "        with torch.set_grad_enabled(True):\n",
    "            with amp.autocast(enabled=CFG.use_fp16):\n",
    "                preds = model(**text_inputs)\n",
    "                preds = preds.view(-1)\n",
    "                targets = targets.view(-1)\n",
    "                loss = loss_fn(preds, targets)\n",
    "            scaler.scale(loss).backward()\n",
    "            if awp is not None:\n",
    "                awp.attack_backward(\n",
    "                    batch[\"input_ids\"],\n",
    "                    batch[\"attention_mask\"],\n",
    "                    batch[\"token_type_ids\"],\n",
    "                    targets, loss_fn, epoch\n",
    "                ) \n",
    "            #torch.nn.utils.clip_grad_norm_(model.parameters(), clip_grad_norm)\n",
    "            scaler.step(optimizer)\n",
    "            scaler.update()\n",
    "            scheduler.step()\n",
    "            epoch_loss += loss.item()\n",
    "    \n",
    "    epoch_loss_per_data = epoch_loss / epoch_data_num\n",
    "    return epoch_loss_per_data"
   ]
  },
  {
   "cell_type": "code",
   "execution_count": 16,
   "metadata": {
    "id": "yNqFcHck_y8j"
   },
   "outputs": [],
   "source": [
    "def valid_one_epoch(model, loss_fn, data_loader, device):\n",
    "    # get batch data loop\n",
    "    epoch_loss = 0\n",
    "    epoch_data_num = len(data_loader.dataset)\n",
    "    pred_list = []\n",
    "    target_list = []\n",
    "    bar = tqdm(enumerate(data_loader), total=len(data_loader))\n",
    "\n",
    "    model.eval()\n",
    "    for iter_i, batch in bar:\n",
    "        # input\n",
    "        batch = {k : v.to(device) for k, v in batch.items()}\n",
    "        text_inputs = {\n",
    "            \"input_ids\": batch[\"input_ids\"],\n",
    "            \"attention_mask\": batch[\"attention_mask\"],\n",
    "            \"token_type_ids\": batch[\"token_type_ids\"]\n",
    "        }\n",
    "        targets = batch[\"targets\"]\n",
    "        batch_size = len(targets)\n",
    "\n",
    "        with torch.no_grad():\n",
    "            preds = model(**text_inputs)\n",
    "            loss = loss_fn(preds.view(-1), targets.view(-1))\n",
    "            epoch_loss += loss.item()\n",
    "\n",
    "        pred_list.append(preds.detach().cpu().numpy())\n",
    "        target_list.append(targets.detach().cpu().numpy())\n",
    "\n",
    "    epoch_loss_per_data = epoch_loss / epoch_data_num\n",
    "    val_preds = np.concatenate(pred_list, axis=0)\n",
    "    val_targets = np.concatenate(target_list, axis=0)\n",
    "    return epoch_loss_per_data, val_preds, val_targets"
   ]
  },
  {
   "cell_type": "code",
   "execution_count": 17,
   "metadata": {},
   "outputs": [],
   "source": [
    "def calc_metric(targets: np.ndarray, preds: np.ndarray) -> float:\n",
    "    score1 = np.sqrt(((targets[:, 0] - preds[:, 0]) ** 2).mean())\n",
    "    score2 = np.sqrt(((targets[:, 1] - preds[:, 1]) ** 2).mean())\n",
    "    score = (score1 + score2) / 2\n",
    "    return score"
   ]
  },
  {
   "cell_type": "code",
   "execution_count": 18,
   "metadata": {
    "id": "3cm7ArXJ_y8j"
   },
   "outputs": [],
   "source": [
    "def train_run(train_df, valid_df, prompt_df, model_prefix=\"\", mlm_model_path=None):\n",
    "    \n",
    "    \n",
    "    set_seed(CFG.seed)\n",
    "    \n",
    "    device = torch.device(\n",
    "        \"cuda:0\" if torch.cuda.is_available() else \"cpu\"\n",
    "    )\n",
    "    print(f\"train run device : {device}\")\n",
    "    \n",
    "    ###################################\n",
    "    # Model and Tokenizer\n",
    "    ###################################\n",
    "    model = NLPModel(mlm_model_path=mlm_model_path)\n",
    "    model.to(device)\n",
    "\n",
    "    tokenizer = transformers.RobertaTokenizer.from_pretrained(CFG.model_name)\n",
    "    scaler = amp.GradScaler(enabled=CFG.use_fp16)\n",
    "    \n",
    "    ###################################\n",
    "    # Make data\n",
    "    ###################################\n",
    "    \n",
    "    train_dataset = NLPDataset(train_df, p_train_df, tokenizer, max_len=CFG.max_length, is_train=True)\n",
    "    valid_dataset = NLPDataset(valid_df, p_train_df, tokenizer, max_len=CFG.max_length, is_train=False)\n",
    "\n",
    "    # data loader\n",
    "    train_loader = DataLoader(\n",
    "        train_dataset,\n",
    "        batch_size=CFG.batch_size,\n",
    "        num_workers=CFG.num_workers,\n",
    "        shuffle=True,\n",
    "        drop_last=True\n",
    "    )\n",
    "    valid_loader = DataLoader(\n",
    "        valid_dataset, \n",
    "        batch_size=CFG.batch_size,\n",
    "        num_workers=CFG.num_workers,\n",
    "        shuffle=False,\n",
    "    )\n",
    "    ##################\n",
    "    # Optimiizer\n",
    "    ##################\n",
    "    optimizer = torch.optim.AdamW(model.parameters(), lr=CFG.lr)\n",
    " \n",
    "    ##################\n",
    "    # awp\n",
    "    ##################   \n",
    "    # awp = AWP(\n",
    "    #     model,\n",
    "    #     optimizer,\n",
    "    #     adv_lr=1e-2,\n",
    "    #     adv_eps=0.001,\n",
    "    #     start_epoch=1,\n",
    "    #     scaler=scaler\n",
    "    # )\n",
    "    awp = None\n",
    "    \n",
    "   \n",
    "    ##################\n",
    "    # lr scheduler\n",
    "    ##################\n",
    "    #scheduler = config.SchedulerClass(\n",
    "    #    optimizer, **config.scheduler_params\n",
    "    #)\n",
    "    num_train_optimization_steps = int(len(train_loader) * CFG.n_epoch)\n",
    "    num_warmup_steps = int(num_train_optimization_steps * CFG.num_warmup_steps_rate)\n",
    "\n",
    "    scheduler = transformers.get_linear_schedule_with_warmup(\n",
    "        optimizer,\n",
    "        num_warmup_steps=num_warmup_steps,\n",
    "        num_training_steps=num_train_optimization_steps\n",
    "    )\n",
    "\n",
    "    ##################\n",
    "    # loss function\n",
    "    ##################\n",
    "    loss_fn = nn.MSELoss()\n",
    "\n",
    "    ###############################\n",
    "    # train epoch loop\n",
    "    ###############################\n",
    "    # iteration and loss count\n",
    "    iteration = 1\n",
    "    epoch_train_loss = 0.0\n",
    "    epoch_val_loss = 0.0\n",
    "    valid_period = 1\n",
    "\n",
    "    results_list = []\n",
    "    val_preds_list = []\n",
    "    old_model_save_path = None\n",
    "\n",
    "    for epoch in range(CFG.n_epoch):\n",
    "        \n",
    "        t_epoch_start = time.time()\n",
    "\n",
    "        # train loop\n",
    "        train_epoch_loss = train_one_epoch(\n",
    "            model, loss_fn, train_loader, optimizer, device, scheduler,\n",
    "            epoch=epoch, scaler=scaler, awp=awp\n",
    "        )\n",
    "\n",
    "        # valid loop\n",
    "        valid_epoch_loss, val_preds, val_targets = valid_one_epoch(\n",
    "            model, loss_fn, valid_loader, device\n",
    "        )\n",
    "\n",
    "        # calc metric\n",
    "        val_score = calc_metric(val_targets, val_preds)        \n",
    "        t_epoch_finish = time.time()\n",
    "        elapsed_time = t_epoch_finish - t_epoch_start\n",
    "\n",
    "        # learning rate step\n",
    "        lr = optimizer.param_groups[0]['lr']\n",
    "        \n",
    "        # save results\n",
    "        results = {\n",
    "            \"epoch\": epoch + 1,\n",
    "            \"lr\": lr,\n",
    "            \"train_loss\": train_epoch_loss,\n",
    "            \"valid_loss\": valid_epoch_loss,\n",
    "            \"MCRMSE\": val_score\n",
    "        }\n",
    "        print(results)\n",
    "        results_list.append(results)\n",
    "\n",
    "        if epoch == CFG.n_epoch -1:\n",
    "            model_save_path = EXP_DIR / f\"{model_prefix}last-checkpoint.bin\"\n",
    "            torch.save({\n",
    "                'model_state_dict': model.state_dict(),\n",
    "                'optimizer_state_dict': optimizer.state_dict(),\n",
    "                'scheduler_state_dict': scheduler.state_dict(),\n",
    "                'epoch': epoch,\n",
    "            }, model_save_path)\n",
    "\n",
    "    return val_score, results_list, val_preds"
   ]
  },
  {
   "cell_type": "code",
   "execution_count": 19,
   "metadata": {
    "colab": {
     "base_uri": "https://localhost:8080/",
     "height": 1000,
     "referenced_widgets": [
      "91738dae5e9d463fa05c6e039b9517e3",
      "cc56056c95474fcd849a386c45c6ce46",
      "74e61965a77f4dec8f1c5c8050e7d443",
      "4dab27d190ec42d8aa6c447ef1f655c3",
      "4f192c1389d840c5ab7b7a38b70fef11",
      "59dd148a11cb4b39bf482e7b5fd3ebf2",
      "7078f7a98d7948368fa83bf2b44b6efe",
      "4ea97a8a1d8149b692da6a143342e2a2",
      "f4e45fda16194090ba17f0eda9a0e21d",
      "e2bf1585a240475c8018694282b85a63",
      "b81fe6a19f1d4f0ba8de92730d886d6d",
      "1794b0581e284551980dd4e8f061b744",
      "066b4f3bd3c0479792ff592211feb064",
      "792d8a89c5e443829fd0bb73a2d1daeb",
      "258d64d94ef04c75937ab42935e4de4d",
      "e1e0134a4904462ebc47f04e2cd198f7",
      "d2eed18cbc1a4397b47051380f9854e6",
      "e739c9a0aebf4df8b2871379c94a249c",
      "f61589ddbe88435e86cce30c55ed95aa",
      "fa92e295d3ee418db0b9b62bf5791748",
      "7eb3d773b4af460691d61367bfd60d47",
      "e6d23eb8460d49b795b1271c444d3f87",
      "a1ab12926dda41508f424d23a681199f",
      "86985c34254842d8b99ccf17761c8721",
      "ebbc295dd647400bb620dfa0b0f2c481",
      "c435922466384688927fa4380caac39f",
      "dc0b577f8c7947ceba8a7d11113e0798",
      "227a754bd502420dbc94ae666fcc7816",
      "db49b37c1a624e03aeaf5040b41eac26",
      "e7b34c5c4948407b91ef46cea7c4a7f7",
      "0bb19f4cbbd847f08a518d6e819a2de4",
      "dca0c5cf2c4d4b26a491c8401cc2757e",
      "10948be30d6e4ad78abd0fc19c3cd05a",
      "f2ab204b050741d8b2428d0e883e33c8",
      "22251b8752a94b0e964628697654c4c4",
      "3889eeb4dc9043fd9910db4651b8ec81",
      "2aeb418fac6e402da5d95d218f84eac7",
      "655af9c3022e471c97c329ee98faa6fe",
      "de19b9a280f1487c94c40b568dfbc085",
      "69df2de595e34a30a414bc7d5bbd262c"
     ]
    },
    "id": "EMjfNRIL_y8l",
    "outputId": "3ed7ab10-d8d4-4687-dcd8-09a19b723133"
   },
   "outputs": [
    {
     "name": "stdout",
     "output_type": "stream",
     "text": [
      "==============================\n",
      "Fold0\n",
      "==============================\n",
      "train run device : cuda:0\n"
     ]
    },
    {
     "name": "stderr",
     "output_type": "stream",
     "text": [
      "Some weights of RobertaModel were not initialized from the model checkpoint at roberta-base and are newly initialized: ['roberta.pooler.dense.weight', 'roberta.pooler.dense.bias']\n",
      "You should probably TRAIN this model on a down-stream task to be able to use it for predictions and inference.\n"
     ]
    },
    {
     "data": {
      "application/vnd.jupyter.widget-view+json": {
       "model_id": "c5628e21a76c4d5392aa1845e9c57fea",
       "version_major": 2,
       "version_minor": 0
      },
      "text/plain": [
       "  0%|          | 0/189 [00:00<?, ?it/s]"
      ]
     },
     "metadata": {},
     "output_type": "display_data"
    },
    {
     "data": {
      "application/vnd.jupyter.widget-view+json": {
       "model_id": "a404e19429ef42ceb059c34398d91afc",
       "version_major": 2,
       "version_minor": 0
      },
      "text/plain": [
       "  0%|          | 0/35 [00:00<?, ?it/s]"
      ]
     },
     "metadata": {},
     "output_type": "display_data"
    },
    {
     "name": "stdout",
     "output_type": "stream",
     "text": [
      "{'epoch': 1, 'lr': 4.4418331374853116e-06, 'train_loss': 0.019405030144279602, 'valid_loss': 0.014146581170565414, 'MCRMSE': 0.6562964916229248}\n"
     ]
    },
    {
     "data": {
      "application/vnd.jupyter.widget-view+json": {
       "model_id": "03b18c9e08464385b27d869f19e6040e",
       "version_major": 2,
       "version_minor": 0
      },
      "text/plain": [
       "  0%|          | 0/189 [00:00<?, ?it/s]"
      ]
     },
     "metadata": {},
     "output_type": "display_data"
    },
    {
     "data": {
      "application/vnd.jupyter.widget-view+json": {
       "model_id": "36c7731f6d3f4d2da07fc91209733a87",
       "version_major": 2,
       "version_minor": 0
      },
      "text/plain": [
       "  0%|          | 0/35 [00:00<?, ?it/s]"
      ]
     },
     "metadata": {},
     "output_type": "display_data"
    },
    {
     "name": "stdout",
     "output_type": "stream",
     "text": [
      "{'epoch': 2, 'lr': 3.331374853113984e-06, 'train_loss': 0.008180542889256086, 'valid_loss': 0.01327417589595722, 'MCRMSE': 0.6361340880393982}\n"
     ]
    },
    {
     "data": {
      "application/vnd.jupyter.widget-view+json": {
       "model_id": "c2b4896cbdad419b8498227e48041553",
       "version_major": 2,
       "version_minor": 0
      },
      "text/plain": [
       "  0%|          | 0/189 [00:00<?, ?it/s]"
      ]
     },
     "metadata": {},
     "output_type": "display_data"
    },
    {
     "data": {
      "application/vnd.jupyter.widget-view+json": {
       "model_id": "07f0666cfd9f491cabfa17697a5eee7e",
       "version_major": 2,
       "version_minor": 0
      },
      "text/plain": [
       "  0%|          | 0/35 [00:00<?, ?it/s]"
      ]
     },
     "metadata": {},
     "output_type": "display_data"
    },
    {
     "name": "stdout",
     "output_type": "stream",
     "text": [
      "{'epoch': 3, 'lr': 2.2209165687426558e-06, 'train_loss': 0.00691617767199633, 'valid_loss': 0.013059806602171953, 'MCRMSE': 0.6342687606811523}\n"
     ]
    },
    {
     "data": {
      "application/vnd.jupyter.widget-view+json": {
       "model_id": "910b606a818a4b76929471f79eadb02d",
       "version_major": 2,
       "version_minor": 0
      },
      "text/plain": [
       "  0%|          | 0/189 [00:00<?, ?it/s]"
      ]
     },
     "metadata": {},
     "output_type": "display_data"
    },
    {
     "data": {
      "application/vnd.jupyter.widget-view+json": {
       "model_id": "5a311504cb6748ecad30ac0a05df4ec5",
       "version_major": 2,
       "version_minor": 0
      },
      "text/plain": [
       "  0%|          | 0/35 [00:00<?, ?it/s]"
      ]
     },
     "metadata": {},
     "output_type": "display_data"
    },
    {
     "name": "stdout",
     "output_type": "stream",
     "text": [
      "{'epoch': 4, 'lr': 1.1104582843713279e-06, 'train_loss': 0.006218312619759752, 'valid_loss': 0.012321629069225418, 'MCRMSE': 0.6145899295806885}\n"
     ]
    },
    {
     "data": {
      "application/vnd.jupyter.widget-view+json": {
       "model_id": "2df5ee659563451abe5bd641b744579e",
       "version_major": 2,
       "version_minor": 0
      },
      "text/plain": [
       "  0%|          | 0/189 [00:00<?, ?it/s]"
      ]
     },
     "metadata": {},
     "output_type": "display_data"
    },
    {
     "data": {
      "application/vnd.jupyter.widget-view+json": {
       "model_id": "87739f5bf8fe4c01881b14907ac61e30",
       "version_major": 2,
       "version_minor": 0
      },
      "text/plain": [
       "  0%|          | 0/35 [00:00<?, ?it/s]"
      ]
     },
     "metadata": {},
     "output_type": "display_data"
    },
    {
     "name": "stdout",
     "output_type": "stream",
     "text": [
      "{'epoch': 5, 'lr': 0.0, 'train_loss': 0.005787357512194109, 'valid_loss': 0.012431372906117686, 'MCRMSE': 0.6177763938903809}\n",
      "==============================\n",
      "Fold1\n",
      "==============================\n",
      "train run device : cuda:0\n"
     ]
    },
    {
     "name": "stderr",
     "output_type": "stream",
     "text": [
      "Some weights of RobertaModel were not initialized from the model checkpoint at roberta-base and are newly initialized: ['roberta.pooler.dense.weight', 'roberta.pooler.dense.bias']\n",
      "You should probably TRAIN this model on a down-stream task to be able to use it for predictions and inference.\n"
     ]
    },
    {
     "data": {
      "application/vnd.jupyter.widget-view+json": {
       "model_id": "d5d0372431bc4f4ca98c0ddb4b05224d",
       "version_major": 2,
       "version_minor": 0
      },
      "text/plain": [
       "  0%|          | 0/161 [00:00<?, ?it/s]"
      ]
     },
     "metadata": {},
     "output_type": "display_data"
    },
    {
     "data": {
      "application/vnd.jupyter.widget-view+json": {
       "model_id": "1a57e69052b346bc952ae9f90dc07232",
       "version_major": 2,
       "version_minor": 0
      },
      "text/plain": [
       "  0%|          | 0/63 [00:00<?, ?it/s]"
      ]
     },
     "metadata": {},
     "output_type": "display_data"
    },
    {
     "name": "stdout",
     "output_type": "stream",
     "text": [
      "{'epoch': 1, 'lr': 4.441379310344828e-06, 'train_loss': 0.021397347323644043, 'valid_loss': 0.011797604332108774, 'MCRMSE': 0.6064535975456238}\n"
     ]
    },
    {
     "data": {
      "application/vnd.jupyter.widget-view+json": {
       "model_id": "95467fb2276e48b9871512a689532bf6",
       "version_major": 2,
       "version_minor": 0
      },
      "text/plain": [
       "  0%|          | 0/161 [00:00<?, ?it/s]"
      ]
     },
     "metadata": {},
     "output_type": "display_data"
    },
    {
     "data": {
      "application/vnd.jupyter.widget-view+json": {
       "model_id": "89bb1fe6f20b4f23af2c6222009d4aad",
       "version_major": 2,
       "version_minor": 0
      },
      "text/plain": [
       "  0%|          | 0/63 [00:00<?, ?it/s]"
      ]
     },
     "metadata": {},
     "output_type": "display_data"
    },
    {
     "name": "stdout",
     "output_type": "stream",
     "text": [
      "{'epoch': 2, 'lr': 3.3310344827586212e-06, 'train_loss': 0.009125948497118537, 'valid_loss': 0.011039181379134766, 'MCRMSE': 0.5906041264533997}\n"
     ]
    },
    {
     "data": {
      "application/vnd.jupyter.widget-view+json": {
       "model_id": "237c2becff3247579ca483756306b2c1",
       "version_major": 2,
       "version_minor": 0
      },
      "text/plain": [
       "  0%|          | 0/161 [00:00<?, ?it/s]"
      ]
     },
     "metadata": {},
     "output_type": "display_data"
    },
    {
     "data": {
      "application/vnd.jupyter.widget-view+json": {
       "model_id": "e4202f2a4a6f4563932f8cbe384166f0",
       "version_major": 2,
       "version_minor": 0
      },
      "text/plain": [
       "  0%|          | 0/63 [00:00<?, ?it/s]"
      ]
     },
     "metadata": {},
     "output_type": "display_data"
    },
    {
     "name": "stdout",
     "output_type": "stream",
     "text": [
      "{'epoch': 3, 'lr': 2.220689655172414e-06, 'train_loss': 0.007703804935482351, 'valid_loss': 0.011180635369970708, 'MCRMSE': 0.5945671200752258}\n"
     ]
    },
    {
     "data": {
      "application/vnd.jupyter.widget-view+json": {
       "model_id": "a7b2384a3d4a4ee7a2ee615132e55d8b",
       "version_major": 2,
       "version_minor": 0
      },
      "text/plain": [
       "  0%|          | 0/161 [00:00<?, ?it/s]"
      ]
     },
     "metadata": {},
     "output_type": "display_data"
    },
    {
     "data": {
      "application/vnd.jupyter.widget-view+json": {
       "model_id": "9f9aa0e373d34b09a16f90a862abfbda",
       "version_major": 2,
       "version_minor": 0
      },
      "text/plain": [
       "  0%|          | 0/63 [00:00<?, ?it/s]"
      ]
     },
     "metadata": {},
     "output_type": "display_data"
    },
    {
     "name": "stdout",
     "output_type": "stream",
     "text": [
      "{'epoch': 4, 'lr': 1.110344827586207e-06, 'train_loss': 0.00675711137491076, 'valid_loss': 0.00990811003024927, 'MCRMSE': 0.5594998598098755}\n"
     ]
    },
    {
     "data": {
      "application/vnd.jupyter.widget-view+json": {
       "model_id": "eb74872f2a1045f99f520230dbb1c3a1",
       "version_major": 2,
       "version_minor": 0
      },
      "text/plain": [
       "  0%|          | 0/161 [00:00<?, ?it/s]"
      ]
     },
     "metadata": {},
     "output_type": "display_data"
    },
    {
     "data": {
      "application/vnd.jupyter.widget-view+json": {
       "model_id": "e77a93d99ae84b119dd85b1ce4864645",
       "version_major": 2,
       "version_minor": 0
      },
      "text/plain": [
       "  0%|          | 0/63 [00:00<?, ?it/s]"
      ]
     },
     "metadata": {},
     "output_type": "display_data"
    },
    {
     "name": "stdout",
     "output_type": "stream",
     "text": [
      "{'epoch': 5, 'lr': 0.0, 'train_loss': 0.006243125500774033, 'valid_loss': 0.00949383754738586, 'MCRMSE': 0.5476597547531128}\n",
      "==============================\n",
      "Fold2\n",
      "==============================\n",
      "train run device : cuda:0\n"
     ]
    },
    {
     "name": "stderr",
     "output_type": "stream",
     "text": [
      "Some weights of RobertaModel were not initialized from the model checkpoint at roberta-base and are newly initialized: ['roberta.pooler.dense.weight', 'roberta.pooler.dense.bias']\n",
      "You should probably TRAIN this model on a down-stream task to be able to use it for predictions and inference.\n"
     ]
    },
    {
     "data": {
      "application/vnd.jupyter.widget-view+json": {
       "model_id": "e2eb2aad001a406695b5fe36461035d8",
       "version_major": 2,
       "version_minor": 0
      },
      "text/plain": [
       "  0%|          | 0/161 [00:00<?, ?it/s]"
      ]
     },
     "metadata": {},
     "output_type": "display_data"
    },
    {
     "data": {
      "application/vnd.jupyter.widget-view+json": {
       "model_id": "180073ce9bf44544bdab84f80a24e9c7",
       "version_major": 2,
       "version_minor": 0
      },
      "text/plain": [
       "  0%|          | 0/63 [00:00<?, ?it/s]"
      ]
     },
     "metadata": {},
     "output_type": "display_data"
    },
    {
     "name": "stdout",
     "output_type": "stream",
     "text": [
      "{'epoch': 1, 'lr': 4.441379310344828e-06, 'train_loss': 0.019835829081648167, 'valid_loss': 0.021504242156737477, 'MCRMSE': 0.8228884935379028}\n"
     ]
    },
    {
     "data": {
      "application/vnd.jupyter.widget-view+json": {
       "model_id": "4a39eace124c441c9b6bf23728d110f5",
       "version_major": 2,
       "version_minor": 0
      },
      "text/plain": [
       "  0%|          | 0/161 [00:00<?, ?it/s]"
      ]
     },
     "metadata": {},
     "output_type": "display_data"
    },
    {
     "data": {
      "application/vnd.jupyter.widget-view+json": {
       "model_id": "bc7cef0983584aaca3a40680bdf45703",
       "version_major": 2,
       "version_minor": 0
      },
      "text/plain": [
       "  0%|          | 0/63 [00:00<?, ?it/s]"
      ]
     },
     "metadata": {},
     "output_type": "display_data"
    },
    {
     "name": "stdout",
     "output_type": "stream",
     "text": [
      "{'epoch': 2, 'lr': 3.3310344827586212e-06, 'train_loss': 0.007847794452270303, 'valid_loss': 0.020680370038276052, 'MCRMSE': 0.8088476657867432}\n"
     ]
    },
    {
     "data": {
      "application/vnd.jupyter.widget-view+json": {
       "model_id": "072875b023ae4558930edfb80415ee38",
       "version_major": 2,
       "version_minor": 0
      },
      "text/plain": [
       "  0%|          | 0/161 [00:00<?, ?it/s]"
      ]
     },
     "metadata": {},
     "output_type": "display_data"
    },
    {
     "data": {
      "application/vnd.jupyter.widget-view+json": {
       "model_id": "73876e7e6f924b669092085b6353260a",
       "version_major": 2,
       "version_minor": 0
      },
      "text/plain": [
       "  0%|          | 0/63 [00:00<?, ?it/s]"
      ]
     },
     "metadata": {},
     "output_type": "display_data"
    },
    {
     "name": "stdout",
     "output_type": "stream",
     "text": [
      "{'epoch': 3, 'lr': 2.220689655172414e-06, 'train_loss': 0.006792342736796874, 'valid_loss': 0.019226425720008825, 'MCRMSE': 0.7764480113983154}\n"
     ]
    },
    {
     "data": {
      "application/vnd.jupyter.widget-view+json": {
       "model_id": "5f3205439f0e4c3ba866038fd858eefa",
       "version_major": 2,
       "version_minor": 0
      },
      "text/plain": [
       "  0%|          | 0/161 [00:00<?, ?it/s]"
      ]
     },
     "metadata": {},
     "output_type": "display_data"
    },
    {
     "data": {
      "application/vnd.jupyter.widget-view+json": {
       "model_id": "87adaa6d7fcb4dbd877636d2ee8ef2df",
       "version_major": 2,
       "version_minor": 0
      },
      "text/plain": [
       "  0%|          | 0/63 [00:00<?, ?it/s]"
      ]
     },
     "metadata": {},
     "output_type": "display_data"
    },
    {
     "name": "stdout",
     "output_type": "stream",
     "text": [
      "{'epoch': 4, 'lr': 1.110344827586207e-06, 'train_loss': 0.006094682681366304, 'valid_loss': 0.017597955263568846, 'MCRMSE': 0.7415740489959717}\n"
     ]
    },
    {
     "data": {
      "application/vnd.jupyter.widget-view+json": {
       "model_id": "4fbe1e879c3646cf98004f6789ad2b4d",
       "version_major": 2,
       "version_minor": 0
      },
      "text/plain": [
       "  0%|          | 0/161 [00:00<?, ?it/s]"
      ]
     },
     "metadata": {},
     "output_type": "display_data"
    },
    {
     "data": {
      "application/vnd.jupyter.widget-view+json": {
       "model_id": "4e6220fc14cb43918ad341c415250211",
       "version_major": 2,
       "version_minor": 0
      },
      "text/plain": [
       "  0%|          | 0/63 [00:00<?, ?it/s]"
      ]
     },
     "metadata": {},
     "output_type": "display_data"
    },
    {
     "name": "stdout",
     "output_type": "stream",
     "text": [
      "{'epoch': 5, 'lr': 0.0, 'train_loss': 0.005649199300352412, 'valid_loss': 0.018043797324106076, 'MCRMSE': 0.7502073049545288}\n",
      "==============================\n",
      "Fold3\n",
      "==============================\n",
      "train run device : cuda:0\n"
     ]
    },
    {
     "name": "stderr",
     "output_type": "stream",
     "text": [
      "Some weights of RobertaModel were not initialized from the model checkpoint at roberta-base and are newly initialized: ['roberta.pooler.dense.weight', 'roberta.pooler.dense.bias']\n",
      "You should probably TRAIN this model on a down-stream task to be able to use it for predictions and inference.\n"
     ]
    },
    {
     "data": {
      "application/vnd.jupyter.widget-view+json": {
       "model_id": "060c811675ce4489ac2cc8359a6aba8c",
       "version_major": 2,
       "version_minor": 0
      },
      "text/plain": [
       "  0%|          | 0/159 [00:00<?, ?it/s]"
      ]
     },
     "metadata": {},
     "output_type": "display_data"
    },
    {
     "data": {
      "application/vnd.jupyter.widget-view+json": {
       "model_id": "c916f6c3fc444be3bec2a0b00d7fd424",
       "version_major": 2,
       "version_minor": 0
      },
      "text/plain": [
       "  0%|          | 0/65 [00:00<?, ?it/s]"
      ]
     },
     "metadata": {},
     "output_type": "display_data"
    },
    {
     "name": "stdout",
     "output_type": "stream",
     "text": [
      "{'epoch': 1, 'lr': 4.441340782122905e-06, 'train_loss': 0.02010440591579783, 'valid_loss': 0.010583805636578413, 'MCRMSE': 0.5760666131973267}\n"
     ]
    },
    {
     "data": {
      "application/vnd.jupyter.widget-view+json": {
       "model_id": "bcb4bbb0c80b4516985761c7daced101",
       "version_major": 2,
       "version_minor": 0
      },
      "text/plain": [
       "  0%|          | 0/159 [00:00<?, ?it/s]"
      ]
     },
     "metadata": {},
     "output_type": "display_data"
    },
    {
     "data": {
      "application/vnd.jupyter.widget-view+json": {
       "model_id": "4a980a8a134345ac956614e04c690664",
       "version_major": 2,
       "version_minor": 0
      },
      "text/plain": [
       "  0%|          | 0/65 [00:00<?, ?it/s]"
      ]
     },
     "metadata": {},
     "output_type": "display_data"
    },
    {
     "name": "stdout",
     "output_type": "stream",
     "text": [
      "{'epoch': 2, 'lr': 3.331005586592179e-06, 'train_loss': 0.009220182443491256, 'valid_loss': 0.0095383215425776, 'MCRMSE': 0.5487094521522522}\n"
     ]
    },
    {
     "data": {
      "application/vnd.jupyter.widget-view+json": {
       "model_id": "2f460fb2fbaa4aa29f247dae47208db2",
       "version_major": 2,
       "version_minor": 0
      },
      "text/plain": [
       "  0%|          | 0/159 [00:00<?, ?it/s]"
      ]
     },
     "metadata": {},
     "output_type": "display_data"
    },
    {
     "data": {
      "application/vnd.jupyter.widget-view+json": {
       "model_id": "6943a5def656414386913ebcce1f33d5",
       "version_major": 2,
       "version_minor": 0
      },
      "text/plain": [
       "  0%|          | 0/65 [00:00<?, ?it/s]"
      ]
     },
     "metadata": {},
     "output_type": "display_data"
    },
    {
     "name": "stdout",
     "output_type": "stream",
     "text": [
      "{'epoch': 3, 'lr': 2.2206703910614527e-06, 'train_loss': 0.007814147549746273, 'valid_loss': 0.008779750672369602, 'MCRMSE': 0.5252559781074524}\n"
     ]
    },
    {
     "data": {
      "application/vnd.jupyter.widget-view+json": {
       "model_id": "f5af518e90124c54bf3c4ab32328348b",
       "version_major": 2,
       "version_minor": 0
      },
      "text/plain": [
       "  0%|          | 0/159 [00:00<?, ?it/s]"
      ]
     },
     "metadata": {},
     "output_type": "display_data"
    },
    {
     "data": {
      "application/vnd.jupyter.widget-view+json": {
       "model_id": "50b9e41581fb4e8d8636e5b7530acab3",
       "version_major": 2,
       "version_minor": 0
      },
      "text/plain": [
       "  0%|          | 0/65 [00:00<?, ?it/s]"
      ]
     },
     "metadata": {},
     "output_type": "display_data"
    },
    {
     "name": "stdout",
     "output_type": "stream",
     "text": [
      "{'epoch': 4, 'lr': 1.1103351955307263e-06, 'train_loss': 0.00683394464180632, 'valid_loss': 0.008726616050933946, 'MCRMSE': 0.524841845035553}\n"
     ]
    },
    {
     "data": {
      "application/vnd.jupyter.widget-view+json": {
       "model_id": "21e7fb5f63b54ddf8338e709d67f7855",
       "version_major": 2,
       "version_minor": 0
      },
      "text/plain": [
       "  0%|          | 0/159 [00:00<?, ?it/s]"
      ]
     },
     "metadata": {},
     "output_type": "display_data"
    },
    {
     "data": {
      "application/vnd.jupyter.widget-view+json": {
       "model_id": "18d97986de5d4b3cb685f3debdcba4fd",
       "version_major": 2,
       "version_minor": 0
      },
      "text/plain": [
       "  0%|          | 0/65 [00:00<?, ?it/s]"
      ]
     },
     "metadata": {},
     "output_type": "display_data"
    },
    {
     "name": "stdout",
     "output_type": "stream",
     "text": [
      "{'epoch': 5, 'lr': 0.0, 'train_loss': 0.006223952187664264, 'valid_loss': 0.008655524718917918, 'MCRMSE': 0.5226565599441528}\n",
      "==============================\n",
      "Fold4\n",
      "==============================\n",
      "train run device : cuda:0\n"
     ]
    },
    {
     "name": "stderr",
     "output_type": "stream",
     "text": [
      "Some weights of RobertaModel were not initialized from the model checkpoint at roberta-base and are newly initialized: ['roberta.pooler.dense.weight', 'roberta.pooler.dense.bias']\n",
      "You should probably TRAIN this model on a down-stream task to be able to use it for predictions and inference.\n"
     ]
    },
    {
     "data": {
      "application/vnd.jupyter.widget-view+json": {
       "model_id": "9350fecc0909454fa428a2153a40e30d",
       "version_major": 2,
       "version_minor": 0
      },
      "text/plain": [
       "  0%|          | 0/223 [00:00<?, ?it/s]"
      ]
     },
     "metadata": {},
     "output_type": "display_data"
    },
    {
     "data": {
      "application/vnd.jupyter.widget-view+json": {
       "model_id": "b307f2a223944c49ae297c411c9c98e1",
       "version_major": 2,
       "version_minor": 0
      },
      "text/plain": [
       "0it [00:00, ?it/s]"
      ]
     },
     "metadata": {},
     "output_type": "display_data"
    },
    {
     "ename": "ZeroDivisionError",
     "evalue": "division by zero",
     "output_type": "error",
     "traceback": [
      "\u001b[0;31m---------------------------------------------------------------------------\u001b[0m",
      "\u001b[0;31mZeroDivisionError\u001b[0m                         Traceback (most recent call last)",
      "\u001b[1;32m/work/notebook/001_baseline.ipynb Cell 19\u001b[0m in \u001b[0;36m1\n\u001b[1;32m     <a href='vscode-notebook-cell://attached-container%2B7b22636f6e7461696e65724e616d65223a222f636f6d6d6f6e6c697432222c2273657474696e6773223a7b22686f7374223a227373683a2f2f6d792d7562756e7475227d7d/work/notebook/001_baseline.ipynb#X23sdnNjb2RlLXJlbW90ZQ%3D%3D?line=13'>14</a>\u001b[0m \u001b[39m# mlm_model_path = CFG.mlm_models[fold_ix] if len(CFG.mlm_models) == CFG.n_cv_fold else CFG.mlm_models[0]\u001b[39;00m\n\u001b[1;32m     <a href='vscode-notebook-cell://attached-container%2B7b22636f6e7461696e65724e616d65223a222f636f6d6d6f6e6c697432222c2273657474696e6773223a7b22686f7374223a227373683a2f2f6d792d7562756e7475227d7d/work/notebook/001_baseline.ipynb#X23sdnNjb2RlLXJlbW90ZQ%3D%3D?line=14'>15</a>\u001b[0m mlm_model_path \u001b[39m=\u001b[39m \u001b[39mNone\u001b[39;00m\n\u001b[0;32m---> <a href='vscode-notebook-cell://attached-container%2B7b22636f6e7461696e65724e616d65223a222f636f6d6d6f6e6c697432222c2273657474696e6773223a7b22686f7374223a227373683a2f2f6d792d7562756e7475227d7d/work/notebook/001_baseline.ipynb#X23sdnNjb2RlLXJlbW90ZQ%3D%3D?line=16'>17</a>\u001b[0m val_score, score_list, val_preds \u001b[39m=\u001b[39m train_run(\n\u001b[1;32m     <a href='vscode-notebook-cell://attached-container%2B7b22636f6e7461696e65724e616d65223a222f636f6d6d6f6e6c697432222c2273657474696e6773223a7b22686f7374223a227373683a2f2f6d792d7562756e7475227d7d/work/notebook/001_baseline.ipynb#X23sdnNjb2RlLXJlbW90ZQ%3D%3D?line=17'>18</a>\u001b[0m     _train_df, _valid_df, p_train_df,\n\u001b[1;32m     <a href='vscode-notebook-cell://attached-container%2B7b22636f6e7461696e65724e616d65223a222f636f6d6d6f6e6c697432222c2273657474696e6773223a7b22686f7374223a227373683a2f2f6d792d7562756e7475227d7d/work/notebook/001_baseline.ipynb#X23sdnNjb2RlLXJlbW90ZQ%3D%3D?line=18'>19</a>\u001b[0m     model_prefix\u001b[39m=\u001b[39;49m\u001b[39mf\u001b[39;49m\u001b[39m\"\u001b[39;49m\u001b[39mfold\u001b[39;49m\u001b[39m{\u001b[39;49;00mfold_ix\u001b[39m}\u001b[39;49;00m\u001b[39m\"\u001b[39;49m,\n\u001b[1;32m     <a href='vscode-notebook-cell://attached-container%2B7b22636f6e7461696e65724e616d65223a222f636f6d6d6f6e6c697432222c2273657474696e6773223a7b22686f7374223a227373683a2f2f6d792d7562756e7475227d7d/work/notebook/001_baseline.ipynb#X23sdnNjb2RlLXJlbW90ZQ%3D%3D?line=19'>20</a>\u001b[0m     mlm_model_path\u001b[39m=\u001b[39;49mmlm_model_path,\n\u001b[1;32m     <a href='vscode-notebook-cell://attached-container%2B7b22636f6e7461696e65724e616d65223a222f636f6d6d6f6e6c697432222c2273657474696e6773223a7b22686f7374223a227373683a2f2f6d792d7562756e7475227d7d/work/notebook/001_baseline.ipynb#X23sdnNjb2RlLXJlbW90ZQ%3D%3D?line=20'>21</a>\u001b[0m )\n\u001b[1;32m     <a href='vscode-notebook-cell://attached-container%2B7b22636f6e7461696e65724e616d65223a222f636f6d6d6f6e6c697432222c2273657474696e6773223a7b22686f7374223a227373683a2f2f6d792d7562756e7475227d7d/work/notebook/001_baseline.ipynb#X23sdnNjb2RlLXJlbW90ZQ%3D%3D?line=21'>22</a>\u001b[0m val_scores\u001b[39m.\u001b[39mappend(val_score)\n\u001b[1;32m     <a href='vscode-notebook-cell://attached-container%2B7b22636f6e7461696e65724e616d65223a222f636f6d6d6f6e6c697432222c2273657474696e6773223a7b22686f7374223a227373683a2f2f6d792d7562756e7475227d7d/work/notebook/001_baseline.ipynb#X23sdnNjb2RlLXJlbW90ZQ%3D%3D?line=23'>24</a>\u001b[0m oof_preds[train_df[\u001b[39m\"\u001b[39m\u001b[39mfold\u001b[39m\u001b[39m\"\u001b[39m] \u001b[39m==\u001b[39m fold_ix] \u001b[39m=\u001b[39m val_preds\n",
      "\u001b[1;32m/work/notebook/001_baseline.ipynb Cell 19\u001b[0m in \u001b[0;36m1\n\u001b[1;32m     <a href='vscode-notebook-cell://attached-container%2B7b22636f6e7461696e65724e616d65223a222f636f6d6d6f6e6c697432222c2273657474696e6773223a7b22686f7374223a227373683a2f2f6d792d7562756e7475227d7d/work/notebook/001_baseline.ipynb#X23sdnNjb2RlLXJlbW90ZQ%3D%3D?line=97'>98</a>\u001b[0m train_epoch_loss \u001b[39m=\u001b[39m train_one_epoch(\n\u001b[1;32m     <a href='vscode-notebook-cell://attached-container%2B7b22636f6e7461696e65724e616d65223a222f636f6d6d6f6e6c697432222c2273657474696e6773223a7b22686f7374223a227373683a2f2f6d792d7562756e7475227d7d/work/notebook/001_baseline.ipynb#X23sdnNjb2RlLXJlbW90ZQ%3D%3D?line=98'>99</a>\u001b[0m     model, loss_fn, train_loader, optimizer, device, scheduler,\n\u001b[1;32m    <a href='vscode-notebook-cell://attached-container%2B7b22636f6e7461696e65724e616d65223a222f636f6d6d6f6e6c697432222c2273657474696e6773223a7b22686f7374223a227373683a2f2f6d792d7562756e7475227d7d/work/notebook/001_baseline.ipynb#X23sdnNjb2RlLXJlbW90ZQ%3D%3D?line=99'>100</a>\u001b[0m     epoch\u001b[39m=\u001b[39mepoch, scaler\u001b[39m=\u001b[39mscaler, awp\u001b[39m=\u001b[39mawp\n\u001b[1;32m    <a href='vscode-notebook-cell://attached-container%2B7b22636f6e7461696e65724e616d65223a222f636f6d6d6f6e6c697432222c2273657474696e6773223a7b22686f7374223a227373683a2f2f6d792d7562756e7475227d7d/work/notebook/001_baseline.ipynb#X23sdnNjb2RlLXJlbW90ZQ%3D%3D?line=100'>101</a>\u001b[0m )\n\u001b[1;32m    <a href='vscode-notebook-cell://attached-container%2B7b22636f6e7461696e65724e616d65223a222f636f6d6d6f6e6c697432222c2273657474696e6773223a7b22686f7374223a227373683a2f2f6d792d7562756e7475227d7d/work/notebook/001_baseline.ipynb#X23sdnNjb2RlLXJlbW90ZQ%3D%3D?line=102'>103</a>\u001b[0m \u001b[39m# valid loop\u001b[39;00m\n\u001b[0;32m--> <a href='vscode-notebook-cell://attached-container%2B7b22636f6e7461696e65724e616d65223a222f636f6d6d6f6e6c697432222c2273657474696e6773223a7b22686f7374223a227373683a2f2f6d792d7562756e7475227d7d/work/notebook/001_baseline.ipynb#X23sdnNjb2RlLXJlbW90ZQ%3D%3D?line=103'>104</a>\u001b[0m valid_epoch_loss, val_preds, val_targets \u001b[39m=\u001b[39m valid_one_epoch(\n\u001b[1;32m    <a href='vscode-notebook-cell://attached-container%2B7b22636f6e7461696e65724e616d65223a222f636f6d6d6f6e6c697432222c2273657474696e6773223a7b22686f7374223a227373683a2f2f6d792d7562756e7475227d7d/work/notebook/001_baseline.ipynb#X23sdnNjb2RlLXJlbW90ZQ%3D%3D?line=104'>105</a>\u001b[0m     model, loss_fn, valid_loader, device\n\u001b[1;32m    <a href='vscode-notebook-cell://attached-container%2B7b22636f6e7461696e65724e616d65223a222f636f6d6d6f6e6c697432222c2273657474696e6773223a7b22686f7374223a227373683a2f2f6d792d7562756e7475227d7d/work/notebook/001_baseline.ipynb#X23sdnNjb2RlLXJlbW90ZQ%3D%3D?line=105'>106</a>\u001b[0m )\n\u001b[1;32m    <a href='vscode-notebook-cell://attached-container%2B7b22636f6e7461696e65724e616d65223a222f636f6d6d6f6e6c697432222c2273657474696e6773223a7b22686f7374223a227373683a2f2f6d792d7562756e7475227d7d/work/notebook/001_baseline.ipynb#X23sdnNjb2RlLXJlbW90ZQ%3D%3D?line=107'>108</a>\u001b[0m \u001b[39m# calc metric\u001b[39;00m\n\u001b[1;32m    <a href='vscode-notebook-cell://attached-container%2B7b22636f6e7461696e65724e616d65223a222f636f6d6d6f6e6c697432222c2273657474696e6773223a7b22686f7374223a227373683a2f2f6d792d7562756e7475227d7d/work/notebook/001_baseline.ipynb#X23sdnNjb2RlLXJlbW90ZQ%3D%3D?line=108'>109</a>\u001b[0m val_score \u001b[39m=\u001b[39m calc_metric(val_targets, val_preds)        \n",
      "\u001b[1;32m/work/notebook/001_baseline.ipynb Cell 19\u001b[0m in \u001b[0;36m2\n\u001b[1;32m     <a href='vscode-notebook-cell://attached-container%2B7b22636f6e7461696e65724e616d65223a222f636f6d6d6f6e6c697432222c2273657474696e6773223a7b22686f7374223a227373683a2f2f6d792d7562756e7475227d7d/work/notebook/001_baseline.ipynb#X23sdnNjb2RlLXJlbW90ZQ%3D%3D?line=25'>26</a>\u001b[0m     pred_list\u001b[39m.\u001b[39mappend(preds\u001b[39m.\u001b[39mdetach()\u001b[39m.\u001b[39mcpu()\u001b[39m.\u001b[39mnumpy())\n\u001b[1;32m     <a href='vscode-notebook-cell://attached-container%2B7b22636f6e7461696e65724e616d65223a222f636f6d6d6f6e6c697432222c2273657474696e6773223a7b22686f7374223a227373683a2f2f6d792d7562756e7475227d7d/work/notebook/001_baseline.ipynb#X23sdnNjb2RlLXJlbW90ZQ%3D%3D?line=26'>27</a>\u001b[0m     target_list\u001b[39m.\u001b[39mappend(targets\u001b[39m.\u001b[39mdetach()\u001b[39m.\u001b[39mcpu()\u001b[39m.\u001b[39mnumpy())\n\u001b[0;32m---> <a href='vscode-notebook-cell://attached-container%2B7b22636f6e7461696e65724e616d65223a222f636f6d6d6f6e6c697432222c2273657474696e6773223a7b22686f7374223a227373683a2f2f6d792d7562756e7475227d7d/work/notebook/001_baseline.ipynb#X23sdnNjb2RlLXJlbW90ZQ%3D%3D?line=28'>29</a>\u001b[0m epoch_loss_per_data \u001b[39m=\u001b[39m epoch_loss \u001b[39m/\u001b[39;49m epoch_data_num\n\u001b[1;32m     <a href='vscode-notebook-cell://attached-container%2B7b22636f6e7461696e65724e616d65223a222f636f6d6d6f6e6c697432222c2273657474696e6773223a7b22686f7374223a227373683a2f2f6d792d7562756e7475227d7d/work/notebook/001_baseline.ipynb#X23sdnNjb2RlLXJlbW90ZQ%3D%3D?line=29'>30</a>\u001b[0m val_preds \u001b[39m=\u001b[39m np\u001b[39m.\u001b[39mconcatenate(pred_list, axis\u001b[39m=\u001b[39m\u001b[39m0\u001b[39m)\n\u001b[1;32m     <a href='vscode-notebook-cell://attached-container%2B7b22636f6e7461696e65724e616d65223a222f636f6d6d6f6e6c697432222c2273657474696e6773223a7b22686f7374223a227373683a2f2f6d792d7562756e7475227d7d/work/notebook/001_baseline.ipynb#X23sdnNjb2RlLXJlbW90ZQ%3D%3D?line=30'>31</a>\u001b[0m val_targets \u001b[39m=\u001b[39m np\u001b[39m.\u001b[39mconcatenate(target_list, axis\u001b[39m=\u001b[39m\u001b[39m0\u001b[39m)\n",
      "\u001b[0;31mZeroDivisionError\u001b[0m: division by zero"
     ]
    }
   ],
   "source": [
    "test_pred_list = []\n",
    "val_scores = []\n",
    "\n",
    "oof_preds = np.zeros((len(train_df), 2))\n",
    "\n",
    "for fold_ix in range(CFG.n_folds):\n",
    "    print(\"=\"*30)\n",
    "    print(f\"Fold{fold_ix}\")\n",
    "    print(\"=\"*30)\n",
    "    \n",
    "    _train_df = train_df.loc[train_df[\"fold\"] != fold_ix].reset_index(drop=True)\n",
    "    _valid_df = train_df.loc[train_df[\"fold\"] == fold_ix].reset_index(drop=True)\n",
    "\n",
    "    # mlm_model_path = CFG.mlm_models[fold_ix] if len(CFG.mlm_models) == CFG.n_cv_fold else CFG.mlm_models[0]\n",
    "    mlm_model_path = None\n",
    "\n",
    "    val_score, score_list, val_preds = train_run(\n",
    "        _train_df, _valid_df, p_train_df,\n",
    "        model_prefix=f\"fold{fold_ix}\",\n",
    "        mlm_model_path=mlm_model_path,\n",
    "    )\n",
    "    val_scores.append(val_score)\n",
    "\n",
    "    oof_preds[train_df[\"fold\"] == fold_ix] = val_preds\n",
    "\n",
    "cv_score = calc_metric(train_df[[\"content\", \"wording\"]].values, oof_preds)\n",
    "print(f\"CV Average at best epoch {cv_score}\")"
   ]
  },
  {
   "cell_type": "code",
   "execution_count": 22,
   "metadata": {},
   "outputs": [
    {
     "name": "stdout",
     "output_type": "stream",
     "text": [
      "CV Average at best epoch 0.6158708946936794\n"
     ]
    }
   ],
   "source": [
    "cv_score = calc_metric(train_df[[\"content\", \"wording\"]].values, oof_preds)\n",
    "print(f\"CV Average at best epoch {cv_score}\")"
   ]
  },
  {
   "cell_type": "code",
   "execution_count": 28,
   "metadata": {},
   "outputs": [
    {
     "name": "stdout",
     "output_type": "stream",
     "text": [
      "Data package template written to: ../data/exp001/dataset-metadata.json\n",
      "Starting upload for file fold3last-checkpoint.bin\n",
      "100%|██████████████████████████████████████| 1.39G/1.39G [08:24<00:00, 2.96MB/s]\n",
      "Upload successful: fold3last-checkpoint.bin (1GB)\n",
      "Starting upload for file dataset-metadata.jsone\n",
      "100%|███████████████████████████████████████████| 129/129 [00:02<00:00, 43.9B/s]\n",
      "Upload successful: dataset-metadata.jsone (129B)\n",
      "Starting upload for file fold1last-checkpoint.bin\n",
      "100%|██████████████████████████████████████| 1.39G/1.39G [06:23<00:00, 3.89MB/s]\n",
      "Upload successful: fold1last-checkpoint.bin (1GB)\n",
      "Starting upload for file fold2last-checkpoint.bin\n",
      "100%|██████████████████████████████████████| 1.39G/1.39G [04:24<00:00, 5.64MB/s]\n",
      "Upload successful: fold2last-checkpoint.bin (1GB)\n",
      "Starting upload for file fold0last-checkpoint.bin\n",
      "100%|██████████████████████████████████████| 1.39G/1.39G [04:25<00:00, 5.62MB/s]\n",
      "Upload successful: fold0last-checkpoint.bin (1GB)\n",
      "Your private Dataset is being created. Please check progress at https://www.kaggle.com/datasets/go5kuramubon/commonlit2-001\n"
     ]
    }
   ],
   "source": [
    "!bash ../upload.sh ../data/exp{EXP_ID}/ commonlit2-{EXP_ID}"
   ]
  },
  {
   "cell_type": "code",
   "execution_count": null,
   "metadata": {},
   "outputs": [],
   "source": []
  }
 ],
 "metadata": {
  "accelerator": "GPU",
  "colab": {
   "collapsed_sections": [],
   "machine_shape": "hm",
   "provenance": []
  },
  "kernelspec": {
   "display_name": "Python 3",
   "language": "python",
   "name": "python3"
  },
  "language_info": {
   "codemirror_mode": {
    "name": "ipython",
    "version": 3
   },
   "file_extension": ".py",
   "mimetype": "text/x-python",
   "name": "python",
   "nbconvert_exporter": "python",
   "pygments_lexer": "ipython3",
   "version": "3.8.13"
  },
  "widgets": {
   "application/vnd.jupyter.widget-state+json": {
    "066b4f3bd3c0479792ff592211feb064": {
     "model_module": "@jupyter-widgets/controls",
     "model_module_version": "1.5.0",
     "model_name": "ProgressStyleModel",
     "state": {
      "_model_module": "@jupyter-widgets/controls",
      "_model_module_version": "1.5.0",
      "_model_name": "ProgressStyleModel",
      "_view_count": null,
      "_view_module": "@jupyter-widgets/base",
      "_view_module_version": "1.2.0",
      "_view_name": "StyleView",
      "bar_color": null,
      "description_width": "initial"
     }
    },
    "0bb19f4cbbd847f08a518d6e819a2de4": {
     "model_module": "@jupyter-widgets/controls",
     "model_module_version": "1.5.0",
     "model_name": "DescriptionStyleModel",
     "state": {
      "_model_module": "@jupyter-widgets/controls",
      "_model_module_version": "1.5.0",
      "_model_name": "DescriptionStyleModel",
      "_view_count": null,
      "_view_module": "@jupyter-widgets/base",
      "_view_module_version": "1.2.0",
      "_view_name": "StyleView",
      "description_width": ""
     }
    },
    "10948be30d6e4ad78abd0fc19c3cd05a": {
     "model_module": "@jupyter-widgets/controls",
     "model_module_version": "1.5.0",
     "model_name": "HBoxModel",
     "state": {
      "_dom_classes": [],
      "_model_module": "@jupyter-widgets/controls",
      "_model_module_version": "1.5.0",
      "_model_name": "HBoxModel",
      "_view_count": null,
      "_view_module": "@jupyter-widgets/controls",
      "_view_module_version": "1.5.0",
      "_view_name": "HBoxView",
      "box_style": "",
      "children": [
       "IPY_MODEL_22251b8752a94b0e964628697654c4c4",
       "IPY_MODEL_3889eeb4dc9043fd9910db4651b8ec81"
      ],
      "layout": "IPY_MODEL_f2ab204b050741d8b2428d0e883e33c8"
     }
    },
    "1794b0581e284551980dd4e8f061b744": {
     "model_module": "@jupyter-widgets/controls",
     "model_module_version": "1.5.0",
     "model_name": "HTMLModel",
     "state": {
      "_dom_classes": [],
      "_model_module": "@jupyter-widgets/controls",
      "_model_module_version": "1.5.0",
      "_model_name": "HTMLModel",
      "_view_count": null,
      "_view_module": "@jupyter-widgets/controls",
      "_view_module_version": "1.5.0",
      "_view_name": "HTMLView",
      "description": "",
      "description_tooltip": null,
      "layout": "IPY_MODEL_e1e0134a4904462ebc47f04e2cd198f7",
      "placeholder": "​",
      "style": "IPY_MODEL_258d64d94ef04c75937ab42935e4de4d",
      "value": " 501M/501M [00:13&lt;00:00, 37.5MB/s]"
     }
    },
    "22251b8752a94b0e964628697654c4c4": {
     "model_module": "@jupyter-widgets/controls",
     "model_module_version": "1.5.0",
     "model_name": "FloatProgressModel",
     "state": {
      "_dom_classes": [],
      "_model_module": "@jupyter-widgets/controls",
      "_model_module_version": "1.5.0",
      "_model_name": "FloatProgressModel",
      "_view_count": null,
      "_view_module": "@jupyter-widgets/controls",
      "_view_module_version": "1.5.0",
      "_view_name": "ProgressView",
      "bar_style": "success",
      "description": "Downloading: 100%",
      "description_tooltip": null,
      "layout": "IPY_MODEL_655af9c3022e471c97c329ee98faa6fe",
      "max": 1355863,
      "min": 0,
      "orientation": "horizontal",
      "style": "IPY_MODEL_2aeb418fac6e402da5d95d218f84eac7",
      "value": 1355863
     }
    },
    "227a754bd502420dbc94ae666fcc7816": {
     "model_module": "@jupyter-widgets/controls",
     "model_module_version": "1.5.0",
     "model_name": "HTMLModel",
     "state": {
      "_dom_classes": [],
      "_model_module": "@jupyter-widgets/controls",
      "_model_module_version": "1.5.0",
      "_model_name": "HTMLModel",
      "_view_count": null,
      "_view_module": "@jupyter-widgets/controls",
      "_view_module_version": "1.5.0",
      "_view_name": "HTMLView",
      "description": "",
      "description_tooltip": null,
      "layout": "IPY_MODEL_dca0c5cf2c4d4b26a491c8401cc2757e",
      "placeholder": "​",
      "style": "IPY_MODEL_0bb19f4cbbd847f08a518d6e819a2de4",
      "value": " 456k/456k [00:02&lt;00:00, 225kB/s]"
     }
    },
    "258d64d94ef04c75937ab42935e4de4d": {
     "model_module": "@jupyter-widgets/controls",
     "model_module_version": "1.5.0",
     "model_name": "DescriptionStyleModel",
     "state": {
      "_model_module": "@jupyter-widgets/controls",
      "_model_module_version": "1.5.0",
      "_model_name": "DescriptionStyleModel",
      "_view_count": null,
      "_view_module": "@jupyter-widgets/base",
      "_view_module_version": "1.2.0",
      "_view_name": "StyleView",
      "description_width": ""
     }
    },
    "2aeb418fac6e402da5d95d218f84eac7": {
     "model_module": "@jupyter-widgets/controls",
     "model_module_version": "1.5.0",
     "model_name": "ProgressStyleModel",
     "state": {
      "_model_module": "@jupyter-widgets/controls",
      "_model_module_version": "1.5.0",
      "_model_name": "ProgressStyleModel",
      "_view_count": null,
      "_view_module": "@jupyter-widgets/base",
      "_view_module_version": "1.2.0",
      "_view_name": "StyleView",
      "bar_color": null,
      "description_width": "initial"
     }
    },
    "3889eeb4dc9043fd9910db4651b8ec81": {
     "model_module": "@jupyter-widgets/controls",
     "model_module_version": "1.5.0",
     "model_name": "HTMLModel",
     "state": {
      "_dom_classes": [],
      "_model_module": "@jupyter-widgets/controls",
      "_model_module_version": "1.5.0",
      "_model_name": "HTMLModel",
      "_view_count": null,
      "_view_module": "@jupyter-widgets/controls",
      "_view_module_version": "1.5.0",
      "_view_name": "HTMLView",
      "description": "",
      "description_tooltip": null,
      "layout": "IPY_MODEL_69df2de595e34a30a414bc7d5bbd262c",
      "placeholder": "​",
      "style": "IPY_MODEL_de19b9a280f1487c94c40b568dfbc085",
      "value": " 1.36M/1.36M [00:00&lt;00:00, 3.49MB/s]"
     }
    },
    "4dab27d190ec42d8aa6c447ef1f655c3": {
     "model_module": "@jupyter-widgets/controls",
     "model_module_version": "1.5.0",
     "model_name": "HTMLModel",
     "state": {
      "_dom_classes": [],
      "_model_module": "@jupyter-widgets/controls",
      "_model_module_version": "1.5.0",
      "_model_name": "HTMLModel",
      "_view_count": null,
      "_view_module": "@jupyter-widgets/controls",
      "_view_module_version": "1.5.0",
      "_view_name": "HTMLView",
      "description": "",
      "description_tooltip": null,
      "layout": "IPY_MODEL_4ea97a8a1d8149b692da6a143342e2a2",
      "placeholder": "​",
      "style": "IPY_MODEL_7078f7a98d7948368fa83bf2b44b6efe",
      "value": " 481/481 [00:00&lt;00:00, 1.12kB/s]"
     }
    },
    "4ea97a8a1d8149b692da6a143342e2a2": {
     "model_module": "@jupyter-widgets/base",
     "model_module_version": "1.2.0",
     "model_name": "LayoutModel",
     "state": {
      "_model_module": "@jupyter-widgets/base",
      "_model_module_version": "1.2.0",
      "_model_name": "LayoutModel",
      "_view_count": null,
      "_view_module": "@jupyter-widgets/base",
      "_view_module_version": "1.2.0",
      "_view_name": "LayoutView",
      "align_content": null,
      "align_items": null,
      "align_self": null,
      "border": null,
      "bottom": null,
      "display": null,
      "flex": null,
      "flex_flow": null,
      "grid_area": null,
      "grid_auto_columns": null,
      "grid_auto_flow": null,
      "grid_auto_rows": null,
      "grid_column": null,
      "grid_gap": null,
      "grid_row": null,
      "grid_template_areas": null,
      "grid_template_columns": null,
      "grid_template_rows": null,
      "height": null,
      "justify_content": null,
      "justify_items": null,
      "left": null,
      "margin": null,
      "max_height": null,
      "max_width": null,
      "min_height": null,
      "min_width": null,
      "object_fit": null,
      "object_position": null,
      "order": null,
      "overflow": null,
      "overflow_x": null,
      "overflow_y": null,
      "padding": null,
      "right": null,
      "top": null,
      "visibility": null,
      "width": null
     }
    },
    "4f192c1389d840c5ab7b7a38b70fef11": {
     "model_module": "@jupyter-widgets/controls",
     "model_module_version": "1.5.0",
     "model_name": "ProgressStyleModel",
     "state": {
      "_model_module": "@jupyter-widgets/controls",
      "_model_module_version": "1.5.0",
      "_model_name": "ProgressStyleModel",
      "_view_count": null,
      "_view_module": "@jupyter-widgets/base",
      "_view_module_version": "1.2.0",
      "_view_name": "StyleView",
      "bar_color": null,
      "description_width": "initial"
     }
    },
    "59dd148a11cb4b39bf482e7b5fd3ebf2": {
     "model_module": "@jupyter-widgets/base",
     "model_module_version": "1.2.0",
     "model_name": "LayoutModel",
     "state": {
      "_model_module": "@jupyter-widgets/base",
      "_model_module_version": "1.2.0",
      "_model_name": "LayoutModel",
      "_view_count": null,
      "_view_module": "@jupyter-widgets/base",
      "_view_module_version": "1.2.0",
      "_view_name": "LayoutView",
      "align_content": null,
      "align_items": null,
      "align_self": null,
      "border": null,
      "bottom": null,
      "display": null,
      "flex": null,
      "flex_flow": null,
      "grid_area": null,
      "grid_auto_columns": null,
      "grid_auto_flow": null,
      "grid_auto_rows": null,
      "grid_column": null,
      "grid_gap": null,
      "grid_row": null,
      "grid_template_areas": null,
      "grid_template_columns": null,
      "grid_template_rows": null,
      "height": null,
      "justify_content": null,
      "justify_items": null,
      "left": null,
      "margin": null,
      "max_height": null,
      "max_width": null,
      "min_height": null,
      "min_width": null,
      "object_fit": null,
      "object_position": null,
      "order": null,
      "overflow": null,
      "overflow_x": null,
      "overflow_y": null,
      "padding": null,
      "right": null,
      "top": null,
      "visibility": null,
      "width": null
     }
    },
    "655af9c3022e471c97c329ee98faa6fe": {
     "model_module": "@jupyter-widgets/base",
     "model_module_version": "1.2.0",
     "model_name": "LayoutModel",
     "state": {
      "_model_module": "@jupyter-widgets/base",
      "_model_module_version": "1.2.0",
      "_model_name": "LayoutModel",
      "_view_count": null,
      "_view_module": "@jupyter-widgets/base",
      "_view_module_version": "1.2.0",
      "_view_name": "LayoutView",
      "align_content": null,
      "align_items": null,
      "align_self": null,
      "border": null,
      "bottom": null,
      "display": null,
      "flex": null,
      "flex_flow": null,
      "grid_area": null,
      "grid_auto_columns": null,
      "grid_auto_flow": null,
      "grid_auto_rows": null,
      "grid_column": null,
      "grid_gap": null,
      "grid_row": null,
      "grid_template_areas": null,
      "grid_template_columns": null,
      "grid_template_rows": null,
      "height": null,
      "justify_content": null,
      "justify_items": null,
      "left": null,
      "margin": null,
      "max_height": null,
      "max_width": null,
      "min_height": null,
      "min_width": null,
      "object_fit": null,
      "object_position": null,
      "order": null,
      "overflow": null,
      "overflow_x": null,
      "overflow_y": null,
      "padding": null,
      "right": null,
      "top": null,
      "visibility": null,
      "width": null
     }
    },
    "69df2de595e34a30a414bc7d5bbd262c": {
     "model_module": "@jupyter-widgets/base",
     "model_module_version": "1.2.0",
     "model_name": "LayoutModel",
     "state": {
      "_model_module": "@jupyter-widgets/base",
      "_model_module_version": "1.2.0",
      "_model_name": "LayoutModel",
      "_view_count": null,
      "_view_module": "@jupyter-widgets/base",
      "_view_module_version": "1.2.0",
      "_view_name": "LayoutView",
      "align_content": null,
      "align_items": null,
      "align_self": null,
      "border": null,
      "bottom": null,
      "display": null,
      "flex": null,
      "flex_flow": null,
      "grid_area": null,
      "grid_auto_columns": null,
      "grid_auto_flow": null,
      "grid_auto_rows": null,
      "grid_column": null,
      "grid_gap": null,
      "grid_row": null,
      "grid_template_areas": null,
      "grid_template_columns": null,
      "grid_template_rows": null,
      "height": null,
      "justify_content": null,
      "justify_items": null,
      "left": null,
      "margin": null,
      "max_height": null,
      "max_width": null,
      "min_height": null,
      "min_width": null,
      "object_fit": null,
      "object_position": null,
      "order": null,
      "overflow": null,
      "overflow_x": null,
      "overflow_y": null,
      "padding": null,
      "right": null,
      "top": null,
      "visibility": null,
      "width": null
     }
    },
    "7078f7a98d7948368fa83bf2b44b6efe": {
     "model_module": "@jupyter-widgets/controls",
     "model_module_version": "1.5.0",
     "model_name": "DescriptionStyleModel",
     "state": {
      "_model_module": "@jupyter-widgets/controls",
      "_model_module_version": "1.5.0",
      "_model_name": "DescriptionStyleModel",
      "_view_count": null,
      "_view_module": "@jupyter-widgets/base",
      "_view_module_version": "1.2.0",
      "_view_name": "StyleView",
      "description_width": ""
     }
    },
    "74e61965a77f4dec8f1c5c8050e7d443": {
     "model_module": "@jupyter-widgets/controls",
     "model_module_version": "1.5.0",
     "model_name": "FloatProgressModel",
     "state": {
      "_dom_classes": [],
      "_model_module": "@jupyter-widgets/controls",
      "_model_module_version": "1.5.0",
      "_model_name": "FloatProgressModel",
      "_view_count": null,
      "_view_module": "@jupyter-widgets/controls",
      "_view_module_version": "1.5.0",
      "_view_name": "ProgressView",
      "bar_style": "success",
      "description": "Downloading: 100%",
      "description_tooltip": null,
      "layout": "IPY_MODEL_59dd148a11cb4b39bf482e7b5fd3ebf2",
      "max": 481,
      "min": 0,
      "orientation": "horizontal",
      "style": "IPY_MODEL_4f192c1389d840c5ab7b7a38b70fef11",
      "value": 481
     }
    },
    "792d8a89c5e443829fd0bb73a2d1daeb": {
     "model_module": "@jupyter-widgets/base",
     "model_module_version": "1.2.0",
     "model_name": "LayoutModel",
     "state": {
      "_model_module": "@jupyter-widgets/base",
      "_model_module_version": "1.2.0",
      "_model_name": "LayoutModel",
      "_view_count": null,
      "_view_module": "@jupyter-widgets/base",
      "_view_module_version": "1.2.0",
      "_view_name": "LayoutView",
      "align_content": null,
      "align_items": null,
      "align_self": null,
      "border": null,
      "bottom": null,
      "display": null,
      "flex": null,
      "flex_flow": null,
      "grid_area": null,
      "grid_auto_columns": null,
      "grid_auto_flow": null,
      "grid_auto_rows": null,
      "grid_column": null,
      "grid_gap": null,
      "grid_row": null,
      "grid_template_areas": null,
      "grid_template_columns": null,
      "grid_template_rows": null,
      "height": null,
      "justify_content": null,
      "justify_items": null,
      "left": null,
      "margin": null,
      "max_height": null,
      "max_width": null,
      "min_height": null,
      "min_width": null,
      "object_fit": null,
      "object_position": null,
      "order": null,
      "overflow": null,
      "overflow_x": null,
      "overflow_y": null,
      "padding": null,
      "right": null,
      "top": null,
      "visibility": null,
      "width": null
     }
    },
    "7eb3d773b4af460691d61367bfd60d47": {
     "model_module": "@jupyter-widgets/controls",
     "model_module_version": "1.5.0",
     "model_name": "ProgressStyleModel",
     "state": {
      "_model_module": "@jupyter-widgets/controls",
      "_model_module_version": "1.5.0",
      "_model_name": "ProgressStyleModel",
      "_view_count": null,
      "_view_module": "@jupyter-widgets/base",
      "_view_module_version": "1.2.0",
      "_view_name": "StyleView",
      "bar_color": null,
      "description_width": "initial"
     }
    },
    "86985c34254842d8b99ccf17761c8721": {
     "model_module": "@jupyter-widgets/base",
     "model_module_version": "1.2.0",
     "model_name": "LayoutModel",
     "state": {
      "_model_module": "@jupyter-widgets/base",
      "_model_module_version": "1.2.0",
      "_model_name": "LayoutModel",
      "_view_count": null,
      "_view_module": "@jupyter-widgets/base",
      "_view_module_version": "1.2.0",
      "_view_name": "LayoutView",
      "align_content": null,
      "align_items": null,
      "align_self": null,
      "border": null,
      "bottom": null,
      "display": null,
      "flex": null,
      "flex_flow": null,
      "grid_area": null,
      "grid_auto_columns": null,
      "grid_auto_flow": null,
      "grid_auto_rows": null,
      "grid_column": null,
      "grid_gap": null,
      "grid_row": null,
      "grid_template_areas": null,
      "grid_template_columns": null,
      "grid_template_rows": null,
      "height": null,
      "justify_content": null,
      "justify_items": null,
      "left": null,
      "margin": null,
      "max_height": null,
      "max_width": null,
      "min_height": null,
      "min_width": null,
      "object_fit": null,
      "object_position": null,
      "order": null,
      "overflow": null,
      "overflow_x": null,
      "overflow_y": null,
      "padding": null,
      "right": null,
      "top": null,
      "visibility": null,
      "width": null
     }
    },
    "91738dae5e9d463fa05c6e039b9517e3": {
     "model_module": "@jupyter-widgets/controls",
     "model_module_version": "1.5.0",
     "model_name": "HBoxModel",
     "state": {
      "_dom_classes": [],
      "_model_module": "@jupyter-widgets/controls",
      "_model_module_version": "1.5.0",
      "_model_name": "HBoxModel",
      "_view_count": null,
      "_view_module": "@jupyter-widgets/controls",
      "_view_module_version": "1.5.0",
      "_view_name": "HBoxView",
      "box_style": "",
      "children": [
       "IPY_MODEL_74e61965a77f4dec8f1c5c8050e7d443",
       "IPY_MODEL_4dab27d190ec42d8aa6c447ef1f655c3"
      ],
      "layout": "IPY_MODEL_cc56056c95474fcd849a386c45c6ce46"
     }
    },
    "a1ab12926dda41508f424d23a681199f": {
     "model_module": "@jupyter-widgets/controls",
     "model_module_version": "1.5.0",
     "model_name": "DescriptionStyleModel",
     "state": {
      "_model_module": "@jupyter-widgets/controls",
      "_model_module_version": "1.5.0",
      "_model_name": "DescriptionStyleModel",
      "_view_count": null,
      "_view_module": "@jupyter-widgets/base",
      "_view_module_version": "1.2.0",
      "_view_name": "StyleView",
      "description_width": ""
     }
    },
    "b81fe6a19f1d4f0ba8de92730d886d6d": {
     "model_module": "@jupyter-widgets/controls",
     "model_module_version": "1.5.0",
     "model_name": "FloatProgressModel",
     "state": {
      "_dom_classes": [],
      "_model_module": "@jupyter-widgets/controls",
      "_model_module_version": "1.5.0",
      "_model_name": "FloatProgressModel",
      "_view_count": null,
      "_view_module": "@jupyter-widgets/controls",
      "_view_module_version": "1.5.0",
      "_view_name": "ProgressView",
      "bar_style": "success",
      "description": "Downloading: 100%",
      "description_tooltip": null,
      "layout": "IPY_MODEL_792d8a89c5e443829fd0bb73a2d1daeb",
      "max": 501200538,
      "min": 0,
      "orientation": "horizontal",
      "style": "IPY_MODEL_066b4f3bd3c0479792ff592211feb064",
      "value": 501200538
     }
    },
    "c435922466384688927fa4380caac39f": {
     "model_module": "@jupyter-widgets/base",
     "model_module_version": "1.2.0",
     "model_name": "LayoutModel",
     "state": {
      "_model_module": "@jupyter-widgets/base",
      "_model_module_version": "1.2.0",
      "_model_name": "LayoutModel",
      "_view_count": null,
      "_view_module": "@jupyter-widgets/base",
      "_view_module_version": "1.2.0",
      "_view_name": "LayoutView",
      "align_content": null,
      "align_items": null,
      "align_self": null,
      "border": null,
      "bottom": null,
      "display": null,
      "flex": null,
      "flex_flow": null,
      "grid_area": null,
      "grid_auto_columns": null,
      "grid_auto_flow": null,
      "grid_auto_rows": null,
      "grid_column": null,
      "grid_gap": null,
      "grid_row": null,
      "grid_template_areas": null,
      "grid_template_columns": null,
      "grid_template_rows": null,
      "height": null,
      "justify_content": null,
      "justify_items": null,
      "left": null,
      "margin": null,
      "max_height": null,
      "max_width": null,
      "min_height": null,
      "min_width": null,
      "object_fit": null,
      "object_position": null,
      "order": null,
      "overflow": null,
      "overflow_x": null,
      "overflow_y": null,
      "padding": null,
      "right": null,
      "top": null,
      "visibility": null,
      "width": null
     }
    },
    "cc56056c95474fcd849a386c45c6ce46": {
     "model_module": "@jupyter-widgets/base",
     "model_module_version": "1.2.0",
     "model_name": "LayoutModel",
     "state": {
      "_model_module": "@jupyter-widgets/base",
      "_model_module_version": "1.2.0",
      "_model_name": "LayoutModel",
      "_view_count": null,
      "_view_module": "@jupyter-widgets/base",
      "_view_module_version": "1.2.0",
      "_view_name": "LayoutView",
      "align_content": null,
      "align_items": null,
      "align_self": null,
      "border": null,
      "bottom": null,
      "display": null,
      "flex": null,
      "flex_flow": null,
      "grid_area": null,
      "grid_auto_columns": null,
      "grid_auto_flow": null,
      "grid_auto_rows": null,
      "grid_column": null,
      "grid_gap": null,
      "grid_row": null,
      "grid_template_areas": null,
      "grid_template_columns": null,
      "grid_template_rows": null,
      "height": null,
      "justify_content": null,
      "justify_items": null,
      "left": null,
      "margin": null,
      "max_height": null,
      "max_width": null,
      "min_height": null,
      "min_width": null,
      "object_fit": null,
      "object_position": null,
      "order": null,
      "overflow": null,
      "overflow_x": null,
      "overflow_y": null,
      "padding": null,
      "right": null,
      "top": null,
      "visibility": null,
      "width": null
     }
    },
    "d2eed18cbc1a4397b47051380f9854e6": {
     "model_module": "@jupyter-widgets/controls",
     "model_module_version": "1.5.0",
     "model_name": "HBoxModel",
     "state": {
      "_dom_classes": [],
      "_model_module": "@jupyter-widgets/controls",
      "_model_module_version": "1.5.0",
      "_model_name": "HBoxModel",
      "_view_count": null,
      "_view_module": "@jupyter-widgets/controls",
      "_view_module_version": "1.5.0",
      "_view_name": "HBoxView",
      "box_style": "",
      "children": [
       "IPY_MODEL_f61589ddbe88435e86cce30c55ed95aa",
       "IPY_MODEL_fa92e295d3ee418db0b9b62bf5791748"
      ],
      "layout": "IPY_MODEL_e739c9a0aebf4df8b2871379c94a249c"
     }
    },
    "db49b37c1a624e03aeaf5040b41eac26": {
     "model_module": "@jupyter-widgets/controls",
     "model_module_version": "1.5.0",
     "model_name": "ProgressStyleModel",
     "state": {
      "_model_module": "@jupyter-widgets/controls",
      "_model_module_version": "1.5.0",
      "_model_name": "ProgressStyleModel",
      "_view_count": null,
      "_view_module": "@jupyter-widgets/base",
      "_view_module_version": "1.2.0",
      "_view_name": "StyleView",
      "bar_color": null,
      "description_width": "initial"
     }
    },
    "dc0b577f8c7947ceba8a7d11113e0798": {
     "model_module": "@jupyter-widgets/controls",
     "model_module_version": "1.5.0",
     "model_name": "FloatProgressModel",
     "state": {
      "_dom_classes": [],
      "_model_module": "@jupyter-widgets/controls",
      "_model_module_version": "1.5.0",
      "_model_name": "FloatProgressModel",
      "_view_count": null,
      "_view_module": "@jupyter-widgets/controls",
      "_view_module_version": "1.5.0",
      "_view_name": "ProgressView",
      "bar_style": "success",
      "description": "Downloading: 100%",
      "description_tooltip": null,
      "layout": "IPY_MODEL_e7b34c5c4948407b91ef46cea7c4a7f7",
      "max": 456318,
      "min": 0,
      "orientation": "horizontal",
      "style": "IPY_MODEL_db49b37c1a624e03aeaf5040b41eac26",
      "value": 456318
     }
    },
    "dca0c5cf2c4d4b26a491c8401cc2757e": {
     "model_module": "@jupyter-widgets/base",
     "model_module_version": "1.2.0",
     "model_name": "LayoutModel",
     "state": {
      "_model_module": "@jupyter-widgets/base",
      "_model_module_version": "1.2.0",
      "_model_name": "LayoutModel",
      "_view_count": null,
      "_view_module": "@jupyter-widgets/base",
      "_view_module_version": "1.2.0",
      "_view_name": "LayoutView",
      "align_content": null,
      "align_items": null,
      "align_self": null,
      "border": null,
      "bottom": null,
      "display": null,
      "flex": null,
      "flex_flow": null,
      "grid_area": null,
      "grid_auto_columns": null,
      "grid_auto_flow": null,
      "grid_auto_rows": null,
      "grid_column": null,
      "grid_gap": null,
      "grid_row": null,
      "grid_template_areas": null,
      "grid_template_columns": null,
      "grid_template_rows": null,
      "height": null,
      "justify_content": null,
      "justify_items": null,
      "left": null,
      "margin": null,
      "max_height": null,
      "max_width": null,
      "min_height": null,
      "min_width": null,
      "object_fit": null,
      "object_position": null,
      "order": null,
      "overflow": null,
      "overflow_x": null,
      "overflow_y": null,
      "padding": null,
      "right": null,
      "top": null,
      "visibility": null,
      "width": null
     }
    },
    "de19b9a280f1487c94c40b568dfbc085": {
     "model_module": "@jupyter-widgets/controls",
     "model_module_version": "1.5.0",
     "model_name": "DescriptionStyleModel",
     "state": {
      "_model_module": "@jupyter-widgets/controls",
      "_model_module_version": "1.5.0",
      "_model_name": "DescriptionStyleModel",
      "_view_count": null,
      "_view_module": "@jupyter-widgets/base",
      "_view_module_version": "1.2.0",
      "_view_name": "StyleView",
      "description_width": ""
     }
    },
    "e1e0134a4904462ebc47f04e2cd198f7": {
     "model_module": "@jupyter-widgets/base",
     "model_module_version": "1.2.0",
     "model_name": "LayoutModel",
     "state": {
      "_model_module": "@jupyter-widgets/base",
      "_model_module_version": "1.2.0",
      "_model_name": "LayoutModel",
      "_view_count": null,
      "_view_module": "@jupyter-widgets/base",
      "_view_module_version": "1.2.0",
      "_view_name": "LayoutView",
      "align_content": null,
      "align_items": null,
      "align_self": null,
      "border": null,
      "bottom": null,
      "display": null,
      "flex": null,
      "flex_flow": null,
      "grid_area": null,
      "grid_auto_columns": null,
      "grid_auto_flow": null,
      "grid_auto_rows": null,
      "grid_column": null,
      "grid_gap": null,
      "grid_row": null,
      "grid_template_areas": null,
      "grid_template_columns": null,
      "grid_template_rows": null,
      "height": null,
      "justify_content": null,
      "justify_items": null,
      "left": null,
      "margin": null,
      "max_height": null,
      "max_width": null,
      "min_height": null,
      "min_width": null,
      "object_fit": null,
      "object_position": null,
      "order": null,
      "overflow": null,
      "overflow_x": null,
      "overflow_y": null,
      "padding": null,
      "right": null,
      "top": null,
      "visibility": null,
      "width": null
     }
    },
    "e2bf1585a240475c8018694282b85a63": {
     "model_module": "@jupyter-widgets/base",
     "model_module_version": "1.2.0",
     "model_name": "LayoutModel",
     "state": {
      "_model_module": "@jupyter-widgets/base",
      "_model_module_version": "1.2.0",
      "_model_name": "LayoutModel",
      "_view_count": null,
      "_view_module": "@jupyter-widgets/base",
      "_view_module_version": "1.2.0",
      "_view_name": "LayoutView",
      "align_content": null,
      "align_items": null,
      "align_self": null,
      "border": null,
      "bottom": null,
      "display": null,
      "flex": null,
      "flex_flow": null,
      "grid_area": null,
      "grid_auto_columns": null,
      "grid_auto_flow": null,
      "grid_auto_rows": null,
      "grid_column": null,
      "grid_gap": null,
      "grid_row": null,
      "grid_template_areas": null,
      "grid_template_columns": null,
      "grid_template_rows": null,
      "height": null,
      "justify_content": null,
      "justify_items": null,
      "left": null,
      "margin": null,
      "max_height": null,
      "max_width": null,
      "min_height": null,
      "min_width": null,
      "object_fit": null,
      "object_position": null,
      "order": null,
      "overflow": null,
      "overflow_x": null,
      "overflow_y": null,
      "padding": null,
      "right": null,
      "top": null,
      "visibility": null,
      "width": null
     }
    },
    "e6d23eb8460d49b795b1271c444d3f87": {
     "model_module": "@jupyter-widgets/base",
     "model_module_version": "1.2.0",
     "model_name": "LayoutModel",
     "state": {
      "_model_module": "@jupyter-widgets/base",
      "_model_module_version": "1.2.0",
      "_model_name": "LayoutModel",
      "_view_count": null,
      "_view_module": "@jupyter-widgets/base",
      "_view_module_version": "1.2.0",
      "_view_name": "LayoutView",
      "align_content": null,
      "align_items": null,
      "align_self": null,
      "border": null,
      "bottom": null,
      "display": null,
      "flex": null,
      "flex_flow": null,
      "grid_area": null,
      "grid_auto_columns": null,
      "grid_auto_flow": null,
      "grid_auto_rows": null,
      "grid_column": null,
      "grid_gap": null,
      "grid_row": null,
      "grid_template_areas": null,
      "grid_template_columns": null,
      "grid_template_rows": null,
      "height": null,
      "justify_content": null,
      "justify_items": null,
      "left": null,
      "margin": null,
      "max_height": null,
      "max_width": null,
      "min_height": null,
      "min_width": null,
      "object_fit": null,
      "object_position": null,
      "order": null,
      "overflow": null,
      "overflow_x": null,
      "overflow_y": null,
      "padding": null,
      "right": null,
      "top": null,
      "visibility": null,
      "width": null
     }
    },
    "e739c9a0aebf4df8b2871379c94a249c": {
     "model_module": "@jupyter-widgets/base",
     "model_module_version": "1.2.0",
     "model_name": "LayoutModel",
     "state": {
      "_model_module": "@jupyter-widgets/base",
      "_model_module_version": "1.2.0",
      "_model_name": "LayoutModel",
      "_view_count": null,
      "_view_module": "@jupyter-widgets/base",
      "_view_module_version": "1.2.0",
      "_view_name": "LayoutView",
      "align_content": null,
      "align_items": null,
      "align_self": null,
      "border": null,
      "bottom": null,
      "display": null,
      "flex": null,
      "flex_flow": null,
      "grid_area": null,
      "grid_auto_columns": null,
      "grid_auto_flow": null,
      "grid_auto_rows": null,
      "grid_column": null,
      "grid_gap": null,
      "grid_row": null,
      "grid_template_areas": null,
      "grid_template_columns": null,
      "grid_template_rows": null,
      "height": null,
      "justify_content": null,
      "justify_items": null,
      "left": null,
      "margin": null,
      "max_height": null,
      "max_width": null,
      "min_height": null,
      "min_width": null,
      "object_fit": null,
      "object_position": null,
      "order": null,
      "overflow": null,
      "overflow_x": null,
      "overflow_y": null,
      "padding": null,
      "right": null,
      "top": null,
      "visibility": null,
      "width": null
     }
    },
    "e7b34c5c4948407b91ef46cea7c4a7f7": {
     "model_module": "@jupyter-widgets/base",
     "model_module_version": "1.2.0",
     "model_name": "LayoutModel",
     "state": {
      "_model_module": "@jupyter-widgets/base",
      "_model_module_version": "1.2.0",
      "_model_name": "LayoutModel",
      "_view_count": null,
      "_view_module": "@jupyter-widgets/base",
      "_view_module_version": "1.2.0",
      "_view_name": "LayoutView",
      "align_content": null,
      "align_items": null,
      "align_self": null,
      "border": null,
      "bottom": null,
      "display": null,
      "flex": null,
      "flex_flow": null,
      "grid_area": null,
      "grid_auto_columns": null,
      "grid_auto_flow": null,
      "grid_auto_rows": null,
      "grid_column": null,
      "grid_gap": null,
      "grid_row": null,
      "grid_template_areas": null,
      "grid_template_columns": null,
      "grid_template_rows": null,
      "height": null,
      "justify_content": null,
      "justify_items": null,
      "left": null,
      "margin": null,
      "max_height": null,
      "max_width": null,
      "min_height": null,
      "min_width": null,
      "object_fit": null,
      "object_position": null,
      "order": null,
      "overflow": null,
      "overflow_x": null,
      "overflow_y": null,
      "padding": null,
      "right": null,
      "top": null,
      "visibility": null,
      "width": null
     }
    },
    "ebbc295dd647400bb620dfa0b0f2c481": {
     "model_module": "@jupyter-widgets/controls",
     "model_module_version": "1.5.0",
     "model_name": "HBoxModel",
     "state": {
      "_dom_classes": [],
      "_model_module": "@jupyter-widgets/controls",
      "_model_module_version": "1.5.0",
      "_model_name": "HBoxModel",
      "_view_count": null,
      "_view_module": "@jupyter-widgets/controls",
      "_view_module_version": "1.5.0",
      "_view_name": "HBoxView",
      "box_style": "",
      "children": [
       "IPY_MODEL_dc0b577f8c7947ceba8a7d11113e0798",
       "IPY_MODEL_227a754bd502420dbc94ae666fcc7816"
      ],
      "layout": "IPY_MODEL_c435922466384688927fa4380caac39f"
     }
    },
    "f2ab204b050741d8b2428d0e883e33c8": {
     "model_module": "@jupyter-widgets/base",
     "model_module_version": "1.2.0",
     "model_name": "LayoutModel",
     "state": {
      "_model_module": "@jupyter-widgets/base",
      "_model_module_version": "1.2.0",
      "_model_name": "LayoutModel",
      "_view_count": null,
      "_view_module": "@jupyter-widgets/base",
      "_view_module_version": "1.2.0",
      "_view_name": "LayoutView",
      "align_content": null,
      "align_items": null,
      "align_self": null,
      "border": null,
      "bottom": null,
      "display": null,
      "flex": null,
      "flex_flow": null,
      "grid_area": null,
      "grid_auto_columns": null,
      "grid_auto_flow": null,
      "grid_auto_rows": null,
      "grid_column": null,
      "grid_gap": null,
      "grid_row": null,
      "grid_template_areas": null,
      "grid_template_columns": null,
      "grid_template_rows": null,
      "height": null,
      "justify_content": null,
      "justify_items": null,
      "left": null,
      "margin": null,
      "max_height": null,
      "max_width": null,
      "min_height": null,
      "min_width": null,
      "object_fit": null,
      "object_position": null,
      "order": null,
      "overflow": null,
      "overflow_x": null,
      "overflow_y": null,
      "padding": null,
      "right": null,
      "top": null,
      "visibility": null,
      "width": null
     }
    },
    "f4e45fda16194090ba17f0eda9a0e21d": {
     "model_module": "@jupyter-widgets/controls",
     "model_module_version": "1.5.0",
     "model_name": "HBoxModel",
     "state": {
      "_dom_classes": [],
      "_model_module": "@jupyter-widgets/controls",
      "_model_module_version": "1.5.0",
      "_model_name": "HBoxModel",
      "_view_count": null,
      "_view_module": "@jupyter-widgets/controls",
      "_view_module_version": "1.5.0",
      "_view_name": "HBoxView",
      "box_style": "",
      "children": [
       "IPY_MODEL_b81fe6a19f1d4f0ba8de92730d886d6d",
       "IPY_MODEL_1794b0581e284551980dd4e8f061b744"
      ],
      "layout": "IPY_MODEL_e2bf1585a240475c8018694282b85a63"
     }
    },
    "f61589ddbe88435e86cce30c55ed95aa": {
     "model_module": "@jupyter-widgets/controls",
     "model_module_version": "1.5.0",
     "model_name": "FloatProgressModel",
     "state": {
      "_dom_classes": [],
      "_model_module": "@jupyter-widgets/controls",
      "_model_module_version": "1.5.0",
      "_model_name": "FloatProgressModel",
      "_view_count": null,
      "_view_module": "@jupyter-widgets/controls",
      "_view_module_version": "1.5.0",
      "_view_name": "ProgressView",
      "bar_style": "success",
      "description": "Downloading: 100%",
      "description_tooltip": null,
      "layout": "IPY_MODEL_e6d23eb8460d49b795b1271c444d3f87",
      "max": 898823,
      "min": 0,
      "orientation": "horizontal",
      "style": "IPY_MODEL_7eb3d773b4af460691d61367bfd60d47",
      "value": 898823
     }
    },
    "fa92e295d3ee418db0b9b62bf5791748": {
     "model_module": "@jupyter-widgets/controls",
     "model_module_version": "1.5.0",
     "model_name": "HTMLModel",
     "state": {
      "_dom_classes": [],
      "_model_module": "@jupyter-widgets/controls",
      "_model_module_version": "1.5.0",
      "_model_name": "HTMLModel",
      "_view_count": null,
      "_view_module": "@jupyter-widgets/controls",
      "_view_module_version": "1.5.0",
      "_view_name": "HTMLView",
      "description": "",
      "description_tooltip": null,
      "layout": "IPY_MODEL_86985c34254842d8b99ccf17761c8721",
      "placeholder": "​",
      "style": "IPY_MODEL_a1ab12926dda41508f424d23a681199f",
      "value": " 899k/899k [00:03&lt;00:00, 299kB/s]"
     }
    }
   }
  }
 },
 "nbformat": 4,
 "nbformat_minor": 4
}
